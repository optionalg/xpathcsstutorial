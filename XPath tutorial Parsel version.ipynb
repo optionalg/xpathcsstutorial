{
 "cells": [
  {
   "cell_type": "markdown",
   "metadata": {},
   "source": [
    "# Part 1: What is XPath?\n",
    "\n",
    "## XPath is a language\n",
    "\n",
    "> XPath is a language for addressing parts of an XML document \n",
    "> \n",
    "\n",
    "-- from [XML Path Language 1.0](https://www.w3.org/TR/xpath/)</cite>\n",
    "\n",
    "This abstract from the official specifications says it all:\n",
    "\n",
    "* _\"XPath is a language\"_: an XPath expression is a character string...\n",
    "* _\"for addressing parts of an XML document\"_: ...a string that that you pass to an XPath engine acting over an XML (or HTML) document, outputting parts of it, and following the data model explained below.\n"
   ]
  },
  {
   "cell_type": "markdown",
   "metadata": {},
   "source": [
    "## Why learn XPath?\n",
    "\n",
    "* navigate **everywhere** inside a DOM tree\n",
    "* a must-have skill for accurate web data extraction\n",
    "* more powerful than CSS selectors\n",
    "* fine-grained look at the text content\n",
    "* complex conditioning with axes\n",
    "* extensible with custom functions (we won’t cover that in this talk though)"
   ]
  },
  {
   "cell_type": "markdown",
   "metadata": {},
   "source": [
    "## XPath data model\n",
    "\n",
    "XPath's [data model](http://www.w3.org/TR/xpath/#data-model) is a tree of nodes representing a document.\n",
    "Nodes can be:\n",
    "\n",
    "* element nodes (`<p>...</p>`)\n",
    "* attribute nodes (`href=\"page.html\"`)\n",
    "* text nodes (`\"Some Title\"`)\n",
    "* comment nodes (`<!-- a comment -->`)\n",
    "* (and 3 other types that we won’t cover here.)\n",
    "\n",
    "In effect, this data model allows you to represent everything inside an XML or HTML document, in a structured and hierarchical way.\n",
    "\n",
    "Throughout this tutorial, we'll use this sample HTML page to illustrate how XPath works:\n",
    "\n",
    "```\n",
    "<html>\n",
    "<head>\n",
    "  <title>This is a title</title>\n",
    "  <meta content=\"text/html; charset=utf-8\" http-equiv=\"content-type\">\n",
    "</head>\n",
    "<body>\n",
    "  <div>\n",
    "    <div>\n",
    "      <p>This is a paragraph.</p>\n",
    "      <p>Is this <a href=\"page2.html\">a link</a>?</p>\n",
    "      <br>\n",
    "      Apparently.\n",
    "    </div>\n",
    "    <div class=\"second\">\n",
    "      Nothing to add.\n",
    "      Except maybe this <a href=\"page3.html\">other link</a>. \n",
    "      <!-- And this comment -->\n",
    "    </div>\n",
    "  </div>\n",
    "</body>\n",
    "</html>\n",
    "```\n",
    "\n",
    "In XPath's data model, everything is a node : elements, attributes, comments... (**but not all nodes are elements.**)\n",
    "\n",
    "And nodes  have an order, the **document order**, the order they appear in the XML/HTML source.\n",
    "\n",
    "Here is an ASCII tree representation of the HTML document for an XPath engine:\n",
    "\n",
    "```\n",
    "# 0--(ROOT)\n",
    " +-- # 1--<html>\n",
    "     +-- # 2--(TXT): '\\n'\n",
    "     +-- # 3--<head>\n",
    "     |   +-- # 4--(TXT): '\\n  '\n",
    "     |   +-- # 5--<title>\n",
    "     |   |   +-- # 6--(TXT): 'This is a title'\n",
    "     |   +-- # 7--(TXT): '\\n  '\n",
    "     |   +-- # 8--<meta>\n",
    "     |   |   +-- # 9--(ATTR): content: 'text/html; charset=utf-8'\n",
    "     |   |   +-- #10--(ATTR): http-equiv: 'content-type'\n",
    "     |   +-- #11--(TXT): '\\n'\n",
    "     +-- #12--(TXT): '\\n'\n",
    "     +-- #13--<body>\n",
    "     |   +-- #14--(TXT): '\\n  '\n",
    "     |   +-- #15--<div>\n",
    "     |   |   +-- #16--(TXT): '\\n    '\n",
    "     |   |   +-- #17--<div>\n",
    "     |   |   |   +-- #18--(TXT): '\\n      '\n",
    "     |   |   |   +-- #19--<p>\n",
    "     |   |   |   |   +-- #20--(TXT): 'This is a paragraph.'\n",
    "     |   |   |   +-- #21--(TXT): '\\n      '\n",
    "     |   |   |   +-- #22--<p>\n",
    "     |   |   |   |   +-- #23--(TXT): 'Is this '\n",
    "     |   |   |   |   +-- #24--<a>\n",
    "     |   |   |   |   |   +-- #25--(ATTR): href: 'page2.html'\n",
    "     |   |   |   |   |   +-- #26--(TXT): 'a link'\n",
    "     |   |   |   |   +-- #27--(TXT): '?'\n",
    "     |   |   |   +-- #28--(TXT): '\\n      '\n",
    "     |   |   |   +-- #29--<br>\n",
    "     |   |   |   +-- #30--(TXT): '\\n      Apparently.\\n    '\n",
    "     |   |   +-- #31--(TXT): '\\n    '\n",
    "     |   |   +-- #32--<div>\n",
    "     |   |   |   +-- #33--(ATTR): class: 'second'\n",
    "     |   |   |   +-- #34--(TXT): '\\n      Nothing to add.\\n      Except maybe this '\n",
    "     |   |   |   +-- #35--<a>\n",
    "     |   |   |   |   +-- #36--(ATTR): href: 'page3.html'\n",
    "     |   |   |   |   +-- #37--(TXT): 'other link'\n",
    "     |   |   |   +-- #38--(TXT): '. \\n      '\n",
    "     |   |   |   +-- #39--(COMM): ' And this comment '\n",
    "     |   |   |   +-- #40--(TXT): '\\n    '\n",
    "     |   |   +-- #41--(TXT): '\\n  '\n",
    "     |   +-- #42--(TXT): '\\n'\n",
    "     +-- #43--(TXT): '\\n'\n",
    " ```\n",
    " \n",
    "You can see various tree branches and leaves:\n",
    "\n",
    "* e.g. `<div>` or `<p>`: these are element nodes\n",
    "* `(TXT)` represent text nodes\n",
    "* `(ATTR)` represent attribute nodes\n",
    "* `(COMM)` represent comment nodes\n",
    "\n",
    "You can also notice that text with only whitespace (space and newlines in our example) **are** proper nodes, they do have their document order and can be selected with XPath."
   ]
  },
  {
   "cell_type": "markdown",
   "metadata": {},
   "source": [
    "## Using parsel to run XPath over a document\n",
    "\n",
    "To illustrate and learn XPath, we will use the [parsel](https://github.com/scrapy/parsel) library. It is a Python module written on top of lxml.\n",
    "\n",
    "Note: lxml itself is built using the C library libxml2, which has a conformant XPath 1.0 engine. You should be able to run the same XPath expressions with any XPath 1.0 engine, and get the same results.\n",
    "\n",
    "This tutorial will only showcase XPath 1.0."
   ]
  },
  {
   "cell_type": "code",
   "execution_count": 1,
   "metadata": {},
   "outputs": [],
   "source": [
    "import parsel"
   ]
  },
  {
   "cell_type": "markdown",
   "metadata": {},
   "source": [
    "Below is a small \"hack\" to change the representation of extracted nodes when using parsel. This is to represent return values as serialized HTML element or string, and not parsel's wrapper objects."
   ]
  },
  {
   "cell_type": "code",
   "execution_count": 2,
   "metadata": {
    "collapsed": true
   },
   "outputs": [],
   "source": [
    "parsel.Selector.__str__ = parsel.Selector.extract\n",
    "parsel.Selector.__repr__ = parsel.Selector.__str__\n",
    "parsel.SelectorList.__repr__ = lambda x: '[{}]'.format(\n",
    "    '\\n '.join(\"({}) {!r}\".format(i, repr(s))\n",
    "               for i, s in enumerate(x, start=1))\n",
    ").replace(r'\\n', '\\n')"
   ]
  },
  {
   "cell_type": "markdown",
   "metadata": {},
   "source": [
    "To use XPath over our sample HTML document, we first need to create a `Selector`:"
   ]
  },
  {
   "cell_type": "code",
   "execution_count": 3,
   "metadata": {
    "collapsed": true
   },
   "outputs": [],
   "source": [
    "htmlsample = '''<html>\n",
    "<head>\n",
    "  <title>This is a title</title>\n",
    "  <meta content=\"text/html; charset=utf-8\" http-equiv=\"content-type\" />\n",
    "</head>\n",
    "<body>\n",
    "  <div>\n",
    "    <div>\n",
    "      <p>This is a paragraph.</p>\n",
    "      <p>Is this <a href=\"page2.html\">a link</a>?</p>\n",
    "      <br />\n",
    "      Apparently.\n",
    "    </div>\n",
    "    <div class=\"second\">\n",
    "      Nothing to add.\n",
    "      Except maybe this <a href=\"page3.html\">other link</a>. \n",
    "      <!-- And this comment -->\n",
    "    </div>\n",
    "  </div>\n",
    "</body>\n",
    "</html>'''\n",
    "\n",
    "doc = parsel.Selector(text=htmlsample)"
   ]
  },
  {
   "cell_type": "markdown",
   "metadata": {},
   "source": [
    "## XPath return types\n",
    "\n",
    "When applied over a document, an XPath expression can return either:\n",
    "\n",
    "* a node-set -- this is the most common case, and often it's a set of element nodes\n",
    "* a string\n",
    "* a number (floating point)\n",
    "* a boolean\n",
    "\n",
    "**Note: When an XPath expression returns node-sets, you do get a set of nodes, even if there's only one node in the set.** With parsel, you get a list of nodes, not a Python set.\n"
   ]
  },
  {
   "cell_type": "markdown",
   "metadata": {},
   "source": [
    "## XPath expressions\n",
    "\n",
    "We will now take a look at some example XPath expressions to get a feeling of how they work. We'll explain the syntax in more details later on.\n",
    "\n",
    "XPath expressions are passed to an XPath engine as strings. Here we are using `.xpath()` method of parsel `Selector` objects.\n",
    "\n",
    "### Selecting the root node of a document\n",
    "\n",
    "The root node is a special node:\n",
    "\n",
    "> The root node is the root of the tree. A root node does not occur except as the root of the tree. The element node for the document element is a child of the root node.\n",
    "\n",
    "Selecting the root node of a document with XPath is one of the shortest XPath expressions: `'/'` (a string with only a forward slash).\n",
    "\n",
    "This is very similar to `cd /` (going to the root directory) in a shell within a Unix filesystem.\n",
    "\n",
    "**Unfortunately, this does not work with parsel.** We get an empty list instead of the root node. It's a limitation of lxml apparently, because it works with libxml2 directly. In practice though, this doesn't matter, the root node is virtually never used directly."
   ]
  },
  {
   "cell_type": "code",
   "execution_count": 4,
   "metadata": {},
   "outputs": [
    {
     "data": {
      "text/plain": [
       "[]"
      ]
     },
     "execution_count": 4,
     "metadata": {},
     "output_type": "execute_result"
    }
   ],
   "source": [
    "# XPath expression\n",
    "#          |\n",
    "#          v\n",
    "doc.xpath('/')"
   ]
  },
  {
   "cell_type": "markdown",
   "metadata": {},
   "source": [
    "### Selecting elements (a.k.a \"tags\")\n",
    "\n",
    "Elements build the structure and hierarchy of the document. Selecting elements is probably the most common use-case for XPath on HTML documents.\n",
    "\n",
    "Elements can have children -- the root node being the ancestor of them all. Their children can also have children and so on. Sometimes, they have only one child.\n",
    "\n",
    "**Note:** text nodes are not elements. But text nodes are always children of some element. Therefore, text nodes are always leaves of the document tree.\n",
    "\n",
    "We said earlier that the document element is a child of the root node. In fact, the document element is the only child of the root node, it's the top-level `<html>` element. Still, selecting it will return a single-node node-set:"
   ]
  },
  {
   "cell_type": "code",
   "execution_count": 5,
   "metadata": {},
   "outputs": [
    {
     "data": {
      "text/plain": [
       "[(1) '<html>\n",
       "<head>\n",
       "  <title>This is a title</title>\n",
       "  <meta content=\"text/html; charset=utf-8\" http-equiv=\"content-type\">\n",
       "</head>\n",
       "<body>\n",
       "  <div>\n",
       "    <div>\n",
       "      <p>This is a paragraph.</p>\n",
       "      <p>Is this <a href=\"page2.html\">a link</a>?</p>\n",
       "      <br>\n",
       "      Apparently.\n",
       "    </div>\n",
       "    <div class=\"second\">\n",
       "      Nothing to add.\n",
       "      Except maybe this <a href=\"page3.html\">other link</a>. \n",
       "      <!-- And this comment -->\n",
       "    </div>\n",
       "  </div>\n",
       "</body>\n",
       "</html>']"
      ]
     },
     "execution_count": 5,
     "metadata": {},
     "output_type": "execute_result"
    }
   ],
   "source": [
    "# XPath expression\n",
    "#           |\n",
    "#           v \n",
    "doc.xpath('/*')"
   ]
  },
  {
   "cell_type": "markdown",
   "metadata": {},
   "source": [
    "The asterisk here, `*`, means \"any element\". And `/*` means \"any element under the root node\". HTML documents have only 1 element like this: the `<html>` tag.\n",
    "\n",
    "Another example: get `<title>` elements:"
   ]
  },
  {
   "cell_type": "code",
   "execution_count": 6,
   "metadata": {},
   "outputs": [
    {
     "data": {
      "text/plain": [
       "[(1) '<title>This is a title</title>']"
      ]
     },
     "execution_count": 6,
     "metadata": {},
     "output_type": "execute_result"
    }
   ],
   "source": [
    "#           XPath expression\n",
    "#                   |\n",
    "#         |<-------------->|\n",
    "doc.xpath('/html/head/title')"
   ]
  },
  {
   "cell_type": "markdown",
   "metadata": {},
   "source": [
    "Again, if you are familiar with the Unix filesystem, you probably intuitively understand what this does:\n",
    "* start from the root (of the document)\n",
    "  * select the `<html>` node\n",
    "    * select the `<head>` node under the `<html>` node\n",
    "      * select the `<title>` node under the `<head>` node\n",
    "\n",
    "In other words, the XPath expression represents the path from the root node to the target node(s). Much like a Unix filepath represents the path from the filesystem root to the target file(s).\n",
    "\n",
    "Selecting text nodes is a bit different: you use the special `text()` syntax.\n",
    "\n",
    "To get the text nodes of `<title>` elements (remember that `<title>` is an element, and that it happens it contains a text node, with the string content \"This is a title\"):"
   ]
  },
  {
   "cell_type": "code",
   "execution_count": 7,
   "metadata": {},
   "outputs": [
    {
     "data": {
      "text/plain": [
       "[(1) 'This is a title']"
      ]
     },
     "execution_count": 7,
     "metadata": {},
     "output_type": "execute_result"
    }
   ],
   "source": [
    "#               XPath expression\n",
    "#                      |\n",
    "#         |<--------------------->|\n",
    "doc.xpath('/html/head/title/text()')"
   ]
  },
  {
   "cell_type": "markdown",
   "metadata": {},
   "source": [
    "Again, there's only one `<title>`, and it contains only one text node, but selecting text nodes int `<title>` returns a single-string-value list, not a string.\n",
    "\n",
    "Now, if we want to select all `<p>` paragraph elements inside the `<body>` (we expect two of them):"
   ]
  },
  {
   "cell_type": "code",
   "execution_count": 8,
   "metadata": {},
   "outputs": [
    {
     "data": {
      "text/plain": [
       "[(1) '<p>This is a paragraph.</p>'\n",
       " (2) '<p>Is this <a href=\"page2.html\">a link</a>?</p>']"
      ]
     },
     "execution_count": 8,
     "metadata": {},
     "output_type": "execute_result"
    }
   ],
   "source": [
    "#       XPath expression\n",
    "#              |\n",
    "#         |<------->|\n",
    "doc.xpath('//body//p')"
   ]
  },
  {
   "cell_type": "markdown",
   "metadata": {},
   "source": [
    "Here, we are introducing the double-slash (`//`) syntax to do multi-hop lookups.\n",
    "\n",
    "If you don't know (or don't care about) the level where the element that you need is located (relative to the root node), the special shortcut `//` tells the XPath engine to search recursively further down the tree, and not directly one-level deeper like in the earlier examples.\n",
    "\n",
    "\n",
    "### Selecting attributes\n",
    "\n",
    "Elements can also have attributes.\n",
    "\n",
    "In our sample document, we have two `<a>` elements, each with a `href` attribute. There's also a `<meta>` element with two attributes: `content` and `http-equiv`.\n",
    "\n",
    "This is how you can select these attributes, with an `@` prefix before the attribute name:"
   ]
  },
  {
   "cell_type": "code",
   "execution_count": 9,
   "metadata": {},
   "outputs": [
    {
     "data": {
      "text/plain": [
       "[(1) 'page2.html'\n",
       " (2) 'page3.html']"
      ]
     },
     "execution_count": 9,
     "metadata": {},
     "output_type": "execute_result"
    }
   ],
   "source": [
    "doc.xpath('//a/@href')"
   ]
  },
  {
   "cell_type": "code",
   "execution_count": 10,
   "metadata": {},
   "outputs": [
    {
     "data": {
      "text/plain": [
       "[(1) 'text/html; charset=utf-8'\n",
       " (2) 'content-type']"
      ]
     },
     "execution_count": 10,
     "metadata": {},
     "output_type": "execute_result"
    }
   ],
   "source": [
    "doc.xpath('//meta/@*')"
   ]
  },
  {
   "cell_type": "markdown",
   "metadata": {},
   "source": [
    "The `*` (asterisk) here after `@` means the same thing as in `/*` expect that this is for attributes, and not elements: meaning that you want any attributes, whatever their name.\n",
    "\n",
    "### Get a string representation of an element"
   ]
  },
  {
   "cell_type": "code",
   "execution_count": 11,
   "metadata": {},
   "outputs": [
    {
     "data": {
      "text/plain": [
       "[(1) 'This is a title']"
      ]
     },
     "execution_count": 11,
     "metadata": {},
     "output_type": "execute_result"
    }
   ],
   "source": [
    "#                XPath expression\n",
    "#                       |\n",
    "#         |<---------------------->|\n",
    "doc.xpath('string(/html/head/title)')"
   ]
  },
  {
   "cell_type": "markdown",
   "metadata": {},
   "source": [
    "This example uses one of several handy string functions in XPath. `string()` will concatenate all text content from the selected node and all of its children, recursively, effectively stripping HTML tags.\n",
    "\n",
    "What happens when you apply `string()` on the document `<body>`? You get a text representation of the document, without the tags:"
   ]
  },
  {
   "cell_type": "code",
   "execution_count": 12,
   "metadata": {},
   "outputs": [
    {
     "data": {
      "text/plain": [
       "[(1) '\n",
       "  \n",
       "    \n",
       "      This is a paragraph.\n",
       "      Is this a link?\n",
       "      \n",
       "      Apparently.\n",
       "    \n",
       "    \n",
       "      Nothing to add.\n",
       "      Except maybe this other link. \n",
       "      \n",
       "    \n",
       "  \n",
       "']"
      ]
     },
     "execution_count": 12,
     "metadata": {},
     "output_type": "execute_result"
    }
   ],
   "source": [
    "#         XPath expression\n",
    "#                 |\n",
    "#         |<------------>|\n",
    "doc.xpath('string(//body)')"
   ]
  },
  {
   "cell_type": "markdown",
   "metadata": {},
   "source": [
    "### Counting elements\n",
    "\n",
    "We said earlier that XPath expressions could also return numbers.\n",
    "\n",
    "One example of this is counting the number of paragraphs in the document:"
   ]
  },
  {
   "cell_type": "code",
   "execution_count": 13,
   "metadata": {},
   "outputs": [
    {
     "data": {
      "text/plain": [
       "[(1) '2.0']"
      ]
     },
     "execution_count": 13,
     "metadata": {},
     "output_type": "execute_result"
    }
   ],
   "source": [
    "#       XPath expression\n",
    "#               |\n",
    "#         |<-------->|\n",
    "doc.xpath('count(//p)')"
   ]
  },
  {
   "cell_type": "markdown",
   "metadata": {},
   "source": [
    "Note that you get a floating point number back, and in the form of a string. This is specific to parsel. Another XPath engine might return a native floating point number.\n",
    "\n",
    "Another example: get the number of attributes in the document (whatever their parent element):"
   ]
  },
  {
   "cell_type": "code",
   "execution_count": 14,
   "metadata": {},
   "outputs": [
    {
     "data": {
      "text/plain": [
       "[(1) '5.0']"
      ]
     },
     "execution_count": 14,
     "metadata": {},
     "output_type": "execute_result"
    }
   ],
   "source": [
    "#       XPath expression\n",
    "#               |\n",
    "#         |<-------->|\n",
    "doc.xpath('count(//@*)')"
   ]
  },
  {
   "cell_type": "markdown",
   "metadata": {},
   "source": [
    "### Boolean operations\n",
    "\n",
    "For example, testing the number of paragraphs:"
   ]
  },
  {
   "cell_type": "code",
   "execution_count": 15,
   "metadata": {},
   "outputs": [
    {
     "data": {
      "text/plain": [
       "[(1) '1']"
      ]
     },
     "execution_count": 15,
     "metadata": {},
     "output_type": "execute_result"
    }
   ],
   "source": [
    "doc.xpath('count(//p) = 2')"
   ]
  },
  {
   "cell_type": "code",
   "execution_count": 16,
   "metadata": {},
   "outputs": [
    {
     "data": {
      "text/plain": [
       "[(1) '0']"
      ]
     },
     "execution_count": 16,
     "metadata": {},
     "output_type": "execute_result"
    }
   ],
   "source": [
    "doc.xpath('count(//p) = 42')"
   ]
  },
  {
   "cell_type": "markdown",
   "metadata": {},
   "source": [
    "# Part 2: Location Paths: how to move inside the document tree"
   ]
  },
  {
   "cell_type": "markdown",
   "metadata": {},
   "source": [
    "A **Location path** is the most common XPath expression.\n",
    "\n",
    "It is used to move in any direction from a starting point (*the context node*) to any node(s) in the tree:\n",
    "\n",
    "* It is a string, with a series of “location steps”: `\"step1 / step2 / step3 ...\"`\n",
    "* It represents the selection and filtering of nodes, processed step by step, from left to right.\n",
    "* Each step is of the form: `AXIS :: NODETEST [PREDICATE]*`\n",
    "\n",
    "So the examples we saw earlier are or contain an XPath expression: `/html/head/title`, `//body//p` etc.\n",
    "\n",
    "**Note:** whitespace does NOT matter, except for `“//”` and `“..”` (`“/   /”` and `“.  .”` are  syntax errors.). The following 3 expressions produce the same result\n"
   ]
  },
  {
   "cell_type": "code",
   "execution_count": 17,
   "metadata": {},
   "outputs": [
    {
     "data": {
      "text/plain": [
       "[(1) '<title>This is a title</title>']"
      ]
     },
     "execution_count": 17,
     "metadata": {},
     "output_type": "execute_result"
    }
   ],
   "source": [
    "doc.xpath('/html/head/title')"
   ]
  },
  {
   "cell_type": "code",
   "execution_count": 18,
   "metadata": {},
   "outputs": [
    {
     "data": {
      "text/plain": [
       "[(1) '<title>This is a title</title>']"
      ]
     },
     "execution_count": 18,
     "metadata": {},
     "output_type": "execute_result"
    }
   ],
   "source": [
    "doc.xpath('/    html   / head   /title')"
   ]
  },
  {
   "cell_type": "code",
   "execution_count": 19,
   "metadata": {},
   "outputs": [
    {
     "data": {
      "text/plain": [
       "[(1) '<title>This is a title</title>']"
      ]
     },
     "execution_count": 19,
     "metadata": {},
     "output_type": "execute_result"
    }
   ],
   "source": [
    "doc.xpath('''\n",
    "    /html\n",
    "        /head\n",
    "            /title''')"
   ]
  },
  {
   "cell_type": "markdown",
   "metadata": {},
   "source": [
    "So **don’t be afraid of indenting your XPath expressions to improve readability.**"
   ]
  },
  {
   "cell_type": "markdown",
   "metadata": {},
   "source": [
    "## Relative vs. absolute paths\n",
    "\n",
    "Location paths can be relative or absolute:\n",
    "\n",
    "* `\"step1/step2/step3\"` is relative\n",
    "* `\"/step1/step2/step3\"` is absolute\n",
    "\n",
    "i.e. an absolute path is a relative path starting with \"/\" (slash)\n",
    "\n",
    "In other terms, absolute paths are relative to the root node.\n",
    "\n",
    "**Tip**: use relative paths whenever possible. This prevents unexpected selection of same nodes in loop iterations.\n",
    "\n",
    "For example, in our sample document, only one `<div>` contains paragraphs. Looping on each `<div>` and using the absolute location path `//p` will produce the same result for each iteration: returning ALL paragraphs in the document everytime.\n"
   ]
  },
  {
   "cell_type": "code",
   "execution_count": 20,
   "metadata": {},
   "outputs": [
    {
     "name": "stdout",
     "output_type": "stream",
     "text": [
      "[(1) '<p>This is a paragraph.</p>'\n",
      " (2) '<p>Is this <a href=\"page2.html\">a link</a>?</p>']\n",
      "[(1) '<p>This is a paragraph.</p>'\n",
      " (2) '<p>Is this <a href=\"page2.html\">a link</a>?</p>']\n",
      "[(1) '<p>This is a paragraph.</p>'\n",
      " (2) '<p>Is this <a href=\"page2.html\">a link</a>?</p>']\n"
     ]
    }
   ],
   "source": [
    "for div in doc.xpath('//body//div'):\n",
    "    print(div.xpath('//p'))"
   ]
  },
  {
   "cell_type": "markdown",
   "metadata": {},
   "source": [
    "Compare this with using the relative `'p'` or `'./p'` expression that will only look at children `<p>` under each `<div>`, and only one of those `<div>` will show having paragraphs as shown below:"
   ]
  },
  {
   "cell_type": "code",
   "execution_count": 21,
   "metadata": {},
   "outputs": [
    {
     "name": "stdout",
     "output_type": "stream",
     "text": [
      "[]\n",
      "[(1) '<p>This is a paragraph.</p>'\n",
      " (2) '<p>Is this <a href=\"page2.html\">a link</a>?</p>']\n",
      "[]\n"
     ]
    }
   ],
   "source": [
    "for div in doc.xpath('//body//div'):\n",
    "    print(div.xpath('p'))"
   ]
  },
  {
   "cell_type": "code",
   "execution_count": 22,
   "metadata": {},
   "outputs": [
    {
     "name": "stdout",
     "output_type": "stream",
     "text": [
      "[]\n",
      "[(1) '<p>This is a paragraph.</p>'\n",
      " (2) '<p>Is this <a href=\"page2.html\">a link</a>?</p>']\n",
      "[]\n"
     ]
    }
   ],
   "source": [
    "for div in doc.xpath('//body//div'):\n",
    "    print(div.xpath('./p'))"
   ]
  },
  {
   "cell_type": "markdown",
   "metadata": {},
   "source": [
    "## Abbreviated syntax\n",
    "\n",
    "What we’ve seen earlier is in fact the “abbreviated syntax” for XPath expressions.\n",
    "\n",
    "The full syntax is quite verbose (but you sometimes need it):\n",
    "\n",
    "| Abbreviated syntax           | Full syntax\n",
    "|------------------------------|-------------------------------------------------\n",
    "| `/html/head/title`           | `/child::html /child:: head /child:: title`\n",
    "| `//meta/@content`            | `/descendant-or-self::node() /child::meta /attribute::content`\n",
    "| `//div/div[@class=\"second\"]` | `/descendant-or-self::node() /child::div /child::div [attribute::class = \"second\"]`\n",
    "| `//div/a/text()`             | `/descendant-or-self::node() /child::div /child::a /child::text()`\n",
    "\n",
    "What are these `child::`, `descendant-or-self::` and `attribute::`, you may ask? They're axes."
   ]
  },
  {
   "cell_type": "markdown",
   "metadata": {},
   "source": [
    "## Axes: moving around\n",
    "\n",
    "Remember: each step of an XPath location path is of the form `AXIS :: NODETEST [PREDICATE]*`.\n",
    "\n",
    "The \"axis\" is the first part of each location path step. It can be explicit, or implicit in abbreviated syntax. For example, in `/html/head/title`, the `child::` axis is omitted in each step.\n",
    "\n",
    "In this section, we'll use explicit axes as much as we can.\n",
    "\n",
    "**AXIS** :: _nodetest [predicate]*_\n",
    "\n",
    "**Axes give the direction to go next, one location step at a time**\n",
    "\n",
    "* `self` (where you are)\n",
    "* `parent`, `child` (direct hop)\n",
    "* `ancestor`, `ancestor-or-self`, `descendant`, `descendant-or-self` (multi-hop)\n",
    "* `following`, `following-sibling`, `preceding`, `preceding-sibling` (document order)\n",
    "* `attribute`, `namespace` (non-element)"
   ]
  },
  {
   "cell_type": "markdown",
   "metadata": {},
   "source": [
    "### Move up or down the tree: self, child, descendant, parent, ancestor\n",
    "\n",
    "Let's assume that we have selected the first `<div>` element in our sample document, the one just under the `<body>` element:"
   ]
  },
  {
   "cell_type": "code",
   "execution_count": 23,
   "metadata": {},
   "outputs": [
    {
     "data": {
      "text/plain": [
       "<div>\n",
       "    <div>\n",
       "      <p>This is a paragraph.</p>\n",
       "      <p>Is this <a href=\"page2.html\">a link</a>?</p>\n",
       "      <br>\n",
       "      Apparently.\n",
       "    </div>\n",
       "    <div class=\"second\">\n",
       "      Nothing to add.\n",
       "      Except maybe this <a href=\"page3.html\">other link</a>. \n",
       "      <!-- And this comment -->\n",
       "    </div>\n",
       "  </div>"
      ]
     },
     "execution_count": 23,
     "metadata": {},
     "output_type": "execute_result"
    }
   ],
   "source": [
    "first_div = doc.xpath('//body/div')[0]\n",
    "first_div"
   ]
  },
  {
   "cell_type": "markdown",
   "metadata": {},
   "source": [
    "The `self` axis represents *the context node*, i.e. where you are currently in the Location Path step. (This may not sounds very useful, but we will see later when this can be handy.)"
   ]
  },
  {
   "cell_type": "code",
   "execution_count": 24,
   "metadata": {},
   "outputs": [
    {
     "data": {
      "text/plain": [
       "[(1) '<div>\n",
       "    <div>\n",
       "      <p>This is a paragraph.</p>\n",
       "      <p>Is this <a href=\"page2.html\">a link</a>?</p>\n",
       "      <br>\n",
       "      Apparently.\n",
       "    </div>\n",
       "    <div class=\"second\">\n",
       "      Nothing to add.\n",
       "      Except maybe this <a href=\"page3.html\">other link</a>. \n",
       "      <!-- And this comment -->\n",
       "    </div>\n",
       "  </div>']"
      ]
     },
     "execution_count": 24,
     "metadata": {},
     "output_type": "execute_result"
    }
   ],
   "source": [
    "first_div.xpath('self::*')"
   ]
  },
  {
   "cell_type": "markdown",
   "metadata": {},
   "source": [
    "If you chain `self::` steps, you'll stay on the same context node:"
   ]
  },
  {
   "cell_type": "code",
   "execution_count": 25,
   "metadata": {},
   "outputs": [
    {
     "data": {
      "text/plain": [
       "[(1) '<div>\n",
       "    <div>\n",
       "      <p>This is a paragraph.</p>\n",
       "      <p>Is this <a href=\"page2.html\">a link</a>?</p>\n",
       "      <br>\n",
       "      Apparently.\n",
       "    </div>\n",
       "    <div class=\"second\">\n",
       "      Nothing to add.\n",
       "      Except maybe this <a href=\"page3.html\">other link</a>. \n",
       "      <!-- And this comment -->\n",
       "    </div>\n",
       "  </div>']"
      ]
     },
     "execution_count": 25,
     "metadata": {},
     "output_type": "execute_result"
    }
   ],
   "source": [
    "first_div.xpath('self::*/self::*/self::*')"
   ]
  },
  {
   "cell_type": "markdown",
   "metadata": {},
   "source": [
    "`self::` is usually seen in abbreviated form: i.e. a '.' (dot). So you could aslo use:"
   ]
  },
  {
   "cell_type": "code",
   "execution_count": 26,
   "metadata": {},
   "outputs": [
    {
     "data": {
      "text/plain": [
       "[(1) '<div>\n",
       "    <div>\n",
       "      <p>This is a paragraph.</p>\n",
       "      <p>Is this <a href=\"page2.html\">a link</a>?</p>\n",
       "      <br>\n",
       "      Apparently.\n",
       "    </div>\n",
       "    <div class=\"second\">\n",
       "      Nothing to add.\n",
       "      Except maybe this <a href=\"page3.html\">other link</a>. \n",
       "      <!-- And this comment -->\n",
       "    </div>\n",
       "  </div>']"
      ]
     },
     "execution_count": 26,
     "metadata": {},
     "output_type": "execute_result"
    }
   ],
   "source": [
    "first_div.xpath('.')"
   ]
  },
  {
   "cell_type": "code",
   "execution_count": 27,
   "metadata": {},
   "outputs": [
    {
     "data": {
      "text/plain": [
       "[(1) '<div>\n",
       "    <div>\n",
       "      <p>This is a paragraph.</p>\n",
       "      <p>Is this <a href=\"page2.html\">a link</a>?</p>\n",
       "      <br>\n",
       "      Apparently.\n",
       "    </div>\n",
       "    <div class=\"second\">\n",
       "      Nothing to add.\n",
       "      Except maybe this <a href=\"page3.html\">other link</a>. \n",
       "      <!-- And this comment -->\n",
       "    </div>\n",
       "  </div>']"
      ]
     },
     "execution_count": 27,
     "metadata": {},
     "output_type": "execute_result"
    }
   ],
   "source": [
    "first_div.xpath('././.')"
   ]
  },
  {
   "cell_type": "markdown",
   "metadata": {},
   "source": [
    "The `child` axis is for immediate children nodes of the context node. Here, our context `<div>` node has 2 `<div>` children:"
   ]
  },
  {
   "cell_type": "code",
   "execution_count": 28,
   "metadata": {},
   "outputs": [
    {
     "data": {
      "text/plain": [
       "[(1) '<div>\n",
       "      <p>This is a paragraph.</p>\n",
       "      <p>Is this <a href=\"page2.html\">a link</a>?</p>\n",
       "      <br>\n",
       "      Apparently.\n",
       "    </div>'\n",
       " (2) '<div class=\"second\">\n",
       "      Nothing to add.\n",
       "      Except maybe this <a href=\"page3.html\">other link</a>. \n",
       "      <!-- And this comment -->\n",
       "    </div>']"
      ]
     },
     "execution_count": 28,
     "metadata": {},
     "output_type": "execute_result"
    }
   ],
   "source": [
    "first_div.xpath('child::*')"
   ]
  },
  {
   "cell_type": "markdown",
   "metadata": {},
   "source": [
    "`child` is in fact the default axis, hence it can be omitted (e.g. we saw that `/html/head/title` is equivalent of `/child::html/child::head/child::title`.)\n",
    "\n",
    "The `parent` axis is the dual of `child`: you go up one level in the DOM:"
   ]
  },
  {
   "cell_type": "code",
   "execution_count": 29,
   "metadata": {},
   "outputs": [
    {
     "data": {
      "text/plain": [
       "[(1) '<body>\n",
       "  <div>\n",
       "    <div>\n",
       "      <p>This is a paragraph.</p>\n",
       "      <p>Is this <a href=\"page2.html\">a link</a>?</p>\n",
       "      <br>\n",
       "      Apparently.\n",
       "    </div>\n",
       "    <div class=\"second\">\n",
       "      Nothing to add.\n",
       "      Except maybe this <a href=\"page3.html\">other link</a>. \n",
       "      <!-- And this comment -->\n",
       "    </div>\n",
       "  </div>\n",
       "</body>']"
      ]
     },
     "execution_count": 29,
     "metadata": {},
     "output_type": "execute_result"
    }
   ],
   "source": [
    "first_div.xpath('parent::*')"
   ]
  },
  {
   "cell_type": "markdown",
   "metadata": {},
   "source": [
    "There's an alias for `parent::`: it's `..` (2 dots, much like in a Unix filesystem):"
   ]
  },
  {
   "cell_type": "code",
   "execution_count": 30,
   "metadata": {},
   "outputs": [
    {
     "data": {
      "text/plain": [
       "[(1) '<body>\n",
       "  <div>\n",
       "    <div>\n",
       "      <p>This is a paragraph.</p>\n",
       "      <p>Is this <a href=\"page2.html\">a link</a>?</p>\n",
       "      <br>\n",
       "      Apparently.\n",
       "    </div>\n",
       "    <div class=\"second\">\n",
       "      Nothing to add.\n",
       "      Except maybe this <a href=\"page3.html\">other link</a>. \n",
       "      <!-- And this comment -->\n",
       "    </div>\n",
       "  </div>\n",
       "</body>']"
      ]
     },
     "execution_count": 30,
     "metadata": {},
     "output_type": "execute_result"
    }
   ],
   "source": [
    "first_div.xpath('..')"
   ]
  },
  {
   "cell_type": "markdown",
   "metadata": {},
   "source": [
    "Let's simplify our ASCII tree representation from earlier to only consider element nodes:\n",
    "\n",
    "```\n",
    "# 0--(ROOT)\n",
    " +-- # 1--<html>\n",
    "     +-- # 3--<head>\n",
    "     |   +-- # 5--<title>\n",
    "     |   +-- # 8--<meta>\n",
    "     +-- #13--<body>\n",
    "         +-- #15--<div>\n",
    "             +-- #17--<div>\n",
    "             |   +-- #19--<p>\n",
    "             |   +-- #22--<p>\n",
    "             |   |   +-- #24--<a>\n",
    "             |   +-- #29--<br>\n",
    "             +-- #32--<div>\n",
    "                 +-- #35--<a>\n",
    "```"
   ]
  },
  {
   "cell_type": "markdown",
   "metadata": {},
   "source": [
    "With this simplified tree representation, this is what `self`, `child` and `parent` select:\n",
    "\n",
    "```\n",
    "                # 0--(ROOT)\n",
    "                 +-- # 1--<html>\n",
    "                     +-- # 3--<head>\n",
    "                     |   +-- # 5--<title>\n",
    "                     |   +-- # 8--<meta>\n",
    "parent::* ---------> +-- #13--<body>\n",
    "                         |\n",
    "self::* ------------->   +-- #15--<div>\n",
    "                             |\n",
    "child::*----+----------->    +-- #17--<div>\n",
    "            |                |   +-- #19--<p>\n",
    "            |                |   +-- #22--<p>\n",
    "            |                |   |   +-- #24--<a>\n",
    "            |                |   +-- #29--<br>\n",
    "            +----------->    +-- #32--<div>\n",
    "                                 +-- #35--<a>\n",
    "```\n",
    "\n",
    "#### Recursively go up or down\n",
    "\n",
    "The `descendant` axis is similar to `child` but also goes deeper in the tree, looking at children of each child, recursively:"
   ]
  },
  {
   "cell_type": "code",
   "execution_count": 31,
   "metadata": {},
   "outputs": [
    {
     "data": {
      "text/plain": [
       "[(1) '<div>\n",
       "      <p>This is a paragraph.</p>\n",
       "      <p>Is this <a href=\"page2.html\">a link</a>?</p>\n",
       "      <br>\n",
       "      Apparently.\n",
       "    </div>'\n",
       " (2) '<p>This is a paragraph.</p>'\n",
       " (3) '<p>Is this <a href=\"page2.html\">a link</a>?</p>'\n",
       " (4) '<a href=\"page2.html\">a link</a>'\n",
       " (5) '<br>'\n",
       " (6) '<div class=\"second\">\n",
       "      Nothing to add.\n",
       "      Except maybe this <a href=\"page3.html\">other link</a>. \n",
       "      <!-- And this comment -->\n",
       "    </div>'\n",
       " (7) '<a href=\"page3.html\">other link</a>']"
      ]
     },
     "execution_count": 31,
     "metadata": {},
     "output_type": "execute_result"
    }
   ],
   "source": [
    "first_div.xpath('descendant::*')"
   ]
  },
  {
   "cell_type": "markdown",
   "metadata": {},
   "source": [
    "You might guess already what `ancestor` is for: it is the dual axis of `descendant`:"
   ]
  },
  {
   "cell_type": "code",
   "execution_count": 32,
   "metadata": {},
   "outputs": [
    {
     "data": {
      "text/plain": [
       "[(1) '<html>\n",
       "<head>\n",
       "  <title>This is a title</title>\n",
       "  <meta content=\"text/html; charset=utf-8\" http-equiv=\"content-type\">\n",
       "</head>\n",
       "<body>\n",
       "  <div>\n",
       "    <div>\n",
       "      <p>This is a paragraph.</p>\n",
       "      <p>Is this <a href=\"page2.html\">a link</a>?</p>\n",
       "      <br>\n",
       "      Apparently.\n",
       "    </div>\n",
       "    <div class=\"second\">\n",
       "      Nothing to add.\n",
       "      Except maybe this <a href=\"page3.html\">other link</a>. \n",
       "      <!-- And this comment -->\n",
       "    </div>\n",
       "  </div>\n",
       "</body>\n",
       "</html>'\n",
       " (2) '<body>\n",
       "  <div>\n",
       "    <div>\n",
       "      <p>This is a paragraph.</p>\n",
       "      <p>Is this <a href=\"page2.html\">a link</a>?</p>\n",
       "      <br>\n",
       "      Apparently.\n",
       "    </div>\n",
       "    <div class=\"second\">\n",
       "      Nothing to add.\n",
       "      Except maybe this <a href=\"page3.html\">other link</a>. \n",
       "      <!-- And this comment -->\n",
       "    </div>\n",
       "  </div>\n",
       "</body>']"
      ]
     },
     "execution_count": 32,
     "metadata": {},
     "output_type": "execute_result"
    }
   ],
   "source": [
    "first_div.xpath('ancestor::*')"
   ]
  },
  {
   "cell_type": "markdown",
   "metadata": {},
   "source": [
    "#### Special case of `descendant-or-self` axis\n",
    "\n",
    "TODO: explain"
   ]
  },
  {
   "cell_type": "code",
   "execution_count": 33,
   "metadata": {},
   "outputs": [
    {
     "data": {
      "text/plain": [
       "[(1) '\n",
       "    '\n",
       " (2) '\n",
       "      '\n",
       " (3) 'This is a paragraph.'\n",
       " (4) '\n",
       "      '\n",
       " (5) 'Is this '\n",
       " (6) 'a link'\n",
       " (7) '?'\n",
       " (8) '\n",
       "      '\n",
       " (9) '\n",
       "      Apparently.\n",
       "    '\n",
       " (10) '\n",
       "    '\n",
       " (11) '\n",
       "      Nothing to add.\n",
       "      Except maybe this '\n",
       " (12) 'other link'\n",
       " (13) '. \n",
       "      '\n",
       " (14) '\n",
       "    '\n",
       " (15) '\n",
       "  ']"
      ]
     },
     "execution_count": 33,
     "metadata": {},
     "output_type": "execute_result"
    }
   ],
   "source": [
    "first_div.xpath('./descendant-or-self::node()/text()')"
   ]
  },
  {
   "cell_type": "markdown",
   "metadata": {
    "collapsed": true
   },
   "source": [
    "### Move \"sideways\": children nodes of the same parent\n",
    " \n",
    "If nodes can have parents, children, ancestors and descendants, they can also have siblings (to continue the family metaphor). **Siblings are nodes that have the same parent node.**\n",
    " \n",
    "Some siblings may come before the context node (they appear before in the document, their order is lower), or they can come after the context node. There are 2 axis for these 2 directions: `preceding-sibling` and `following-sibling`.\n",
    "\n",
    "Let's first select this paragraph from our sample document: `<p>Is this <a href=\"page2.html\">a link</a>?</p>`. It's the 2nd child of the 1st `<div>` of the `<div>` we used above:"
   ]
  },
  {
   "cell_type": "code",
   "execution_count": 34,
   "metadata": {
    "collapsed": true
   },
   "outputs": [],
   "source": [
    "paragraph = first_div.xpath('child::div[1]/child::p[2]')[0]"
   ]
  },
  {
   "cell_type": "markdown",
   "metadata": {},
   "source": [
    "You can notice above that we started using 2 new patterns along with the axes:\n",
    "\n",
    "- `child::div` vs. `child::*`: `*` means \"any element node\" (this is a _NODETEST_ that we'll cover afterwards)\n",
    "- `[1]` and `[2]`: which mean _first_ and _second_ in the current step's node-set (this is a kind of _PREDICATE_ that we'll cover afterwards also)"
   ]
  },
  {
   "cell_type": "code",
   "execution_count": 35,
   "metadata": {},
   "outputs": [
    {
     "data": {
      "text/plain": [
       "[(1) '<p>This is a paragraph.</p>']"
      ]
     },
     "execution_count": 35,
     "metadata": {},
     "output_type": "execute_result"
    }
   ],
   "source": [
    "paragraph.xpath('preceding-sibling::*')"
   ]
  },
  {
   "cell_type": "code",
   "execution_count": 36,
   "metadata": {},
   "outputs": [
    {
     "data": {
      "text/plain": [
       "[(1) '<br>']"
      ]
     },
     "execution_count": 36,
     "metadata": {},
     "output_type": "execute_result"
    }
   ],
   "source": [
    "paragraph.xpath('following-sibling::*')"
   ]
  },
  {
   "cell_type": "markdown",
   "metadata": {},
   "source": [
    "Again, let's see which elements were selected in our ASCII tree representation:\n",
    "\n",
    "```\n",
    "                # 0--(ROOT)\n",
    "                 +-- # 1--<html>\n",
    "                     +-- # 3--<head>\n",
    "                     |   +-- # 5--<title>\n",
    "                     |   +-- # 8--<meta>\n",
    "                     +-- #13--<body>\n",
    "                         |\n",
    "                         +-- #15--<div>\n",
    "                             |\n",
    "                             +-- #17--<div>\n",
    "                             |   |\n",
    "                             |   |\n",
    "preceding-sibling::* ----------> +-- #19--<p>\n",
    "                             |   |\n",
    "                             |   |\n",
    "self::* -----------------------> +-- #22--<p>\n",
    "                             |   |   |\n",
    "                             |   |   +-- #24--<a>\n",
    "                             |   |\n",
    "                             |   |\n",
    "following-sibling::* ----------> +-- #29--<br>\n",
    "                             |\n",
    "                             |\n",
    "                             +-- #32--<div>\n",
    "                                 +-- #35--<a>\n",
    "```"
   ]
  },
  {
   "cell_type": "code",
   "execution_count": 37,
   "metadata": {},
   "outputs": [
    {
     "data": {
      "text/plain": [
       "[(1) '\n",
       "      '\n",
       " (2) '<br>'\n",
       " (3) '\n",
       "      Apparently.\n",
       "    ']"
      ]
     },
     "execution_count": 37,
     "metadata": {},
     "output_type": "execute_result"
    }
   ],
   "source": [
    "paragraph.xpath('following-sibling::node()')"
   ]
  },
  {
   "cell_type": "markdown",
   "metadata": {},
   "source": [
    "#### Nodes before and after, in document order"
   ]
  },
  {
   "cell_type": "markdown",
   "metadata": {},
   "source": [
    "`preceding` and `following` are 2 special axes that do not look at the tree hierarchy, but work on the document order of nodes.\n",
    "\n",
    "Remember, all nodes in XPath data model have an order, called the _document order_. Node 1 is the first node in the HTML source, node 2 is the node appearing next etc.\n",
    "\n",
    "```\n",
    "  #1    #2    #3   ...\n",
    "<html><head><title>...\n",
    "```"
   ]
  },
  {
   "cell_type": "code",
   "execution_count": 38,
   "metadata": {},
   "outputs": [
    {
     "data": {
      "text/plain": [
       "[(1) '<head>\n",
       "  <title>This is a title</title>\n",
       "  <meta content=\"text/html; charset=utf-8\" http-equiv=\"content-type\">\n",
       "</head>'\n",
       " (2) '<title>This is a title</title>'\n",
       " (3) '<meta content=\"text/html; charset=utf-8\" http-equiv=\"content-type\">'\n",
       " (4) '<p>This is a paragraph.</p>']"
      ]
     },
     "execution_count": 38,
     "metadata": {},
     "output_type": "execute_result"
    }
   ],
   "source": [
    "paragraph.xpath('preceding::*')"
   ]
  },
  {
   "cell_type": "code",
   "execution_count": 39,
   "metadata": {},
   "outputs": [
    {
     "data": {
      "text/plain": [
       "[(1) '<br>'\n",
       " (2) '<div class=\"second\">\n",
       "      Nothing to add.\n",
       "      Except maybe this <a href=\"page3.html\">other link</a>. \n",
       "      <!-- And this comment -->\n",
       "    </div>'\n",
       " (3) '<a href=\"page3.html\">other link</a>']"
      ]
     },
     "execution_count": 39,
     "metadata": {},
     "output_type": "execute_result"
    }
   ],
   "source": [
    "paragraph.xpath('following::*')"
   ]
  },
  {
   "cell_type": "markdown",
   "metadata": {},
   "source": [
    "Note that `preceding` does not include ancestors and `following` does not include descendants.\n",
    "\n",
    "This property is mentioned in XPath specs like this:\n",
    "\n",
    "> The ancestor, descendant, following, preceding and self axes partition a document (ignoring attribute and namespace nodes): they do not overlap and together they contain all the nodes in the document.\n",
    "\n",
    "i.e. `document == self U (ancestor U preceding) U (descendant U following)`"
   ]
  },
  {
   "cell_type": "markdown",
   "metadata": {},
   "source": [
    "## Node tests\n",
    "\n",
    "A \"node test\" is the second part of each step in a location path.\n",
    "\n",
    "_axis_ :: **NODETEST** _[predicate]*_\n",
    "\n",
    "Node tests select node types along the step's axis.\n",
    "\n",
    "They can be:\n",
    "\n",
    "* a *name test*:\n",
    "\n",
    "  * such as \"p\", \"title\" or \"a\" for elements: `/html/head/title` contains 3 steps, each with a name test node test\n",
    "  * or \"href\" or \"src\" for attributes: `/a/@href` selects \"href\" attributes of \n",
    " \n",
    "* a *node type test\":\n",
    "\n",
    "  * \"node()\": any node type\n",
    "  * \"text()\": text nodes\n",
    "  * \"comment()\": comment nodes\n",
    "  * \"*\" (an asterisk): the meaning depends on the axis:\n",
    "    * an \"*\" step alone selects any element nodes (a.k.a tags)\n",
    "    * an \"@*\" selects any attribute node\n",
    "\n",
    "**Note:** `text()` is not a function call that converts a node to it's text representation, it's just a test on the node type.\n",
    "\n",
    "Compare these 2 expressions:"
   ]
  },
  {
   "cell_type": "code",
   "execution_count": 40,
   "metadata": {},
   "outputs": [
    {
     "data": {
      "text/plain": [
       "[(1) 'Is this '\n",
       " (2) '?']"
      ]
     },
     "execution_count": 40,
     "metadata": {},
     "output_type": "execute_result"
    }
   ],
   "source": [
    "paragraph.xpath('child::text()')"
   ]
  },
  {
   "cell_type": "code",
   "execution_count": 41,
   "metadata": {},
   "outputs": [
    {
     "data": {
      "text/plain": [
       "[(1) 'Is this a link?']"
      ]
     },
     "execution_count": 41,
     "metadata": {},
     "output_type": "execute_result"
    }
   ],
   "source": [
    "paragraph.xpath('string(self::*)')"
   ]
  },
  {
   "cell_type": "markdown",
   "metadata": {},
   "source": [
    "`child::text()` selector all children nodes that are also text nodes. \"a\" is part of the `<a>` inside the paragraph, sot it's not selected.\n",
    "\n",
    "Whereas `string(self::*)` applies to the paragraph (the context node, selected with `self::*`) and recursively gets text content of children, children of children and so on."
   ]
  },
  {
   "cell_type": "markdown",
   "metadata": {},
   "source": [
    "## Predicates\n",
    "\n",
    "_axis_ :: _nodetest_ ** [PREDICATE]* **\n",
    "\n",
    "Predicates are the last part of each step in a location path. Predicates are optional.\n",
    "\n",
    "They are used to further filter nodes on properties that cannot be expressed with the step's axis and node test.\n",
    "\n",
    "Remember that XPath location paths work step by step. Each step produces a node-set for each node from the previous step's node-set, with possibly more than 1 node in each node set.\n",
    "\n",
    "You may not be interested in all nodes from a node test.\n",
    "\n",
    "The syntax for predicates is simple: just surround conditions withing square brackets. What's inside the square brackets can be:\n",
    "\n",
    "- a number (see positional predicates below)\n",
    "- a location path: the predicate will select nodes for which the location path matches at least a node\n",
    "- a boolean operation: for example to test a condition on text content or count of children\n",
    "\n",
    "### Positional predicates\n",
    "\n",
    "The first use-case is selecting nodes based on their position in a node-set. Node-sets order depends on the axis, but let's consider that the order of a node in a node-set is the document order.\n",
    "\n",
    "Let's say we don't want the 2 paragraphs in the `<div>` we looked at earlier, only the first one:"
   ]
  },
  {
   "cell_type": "code",
   "execution_count": 42,
   "metadata": {},
   "outputs": [
    {
     "data": {
      "text/plain": [
       "[(1) '<p>This is a paragraph.</p>'\n",
       " (2) '<p>Is this <a href=\"page2.html\">a link</a>?</p>']"
      ]
     },
     "execution_count": 42,
     "metadata": {},
     "output_type": "execute_result"
    }
   ],
   "source": [
    "doc.xpath('//body/div/div/p')"
   ]
  },
  {
   "cell_type": "code",
   "execution_count": 43,
   "metadata": {},
   "outputs": [
    {
     "data": {
      "text/plain": [
       "[(1) '<p>This is a paragraph.</p>']"
      ]
     },
     "execution_count": 43,
     "metadata": {},
     "output_type": "execute_result"
    }
   ],
   "source": [
    "doc.xpath('//body/div/div/p[1]')"
   ]
  },
  {
   "cell_type": "markdown",
   "metadata": {},
   "source": [
    "If you want the last node in a node-set, you can use `last()`:"
   ]
  },
  {
   "cell_type": "code",
   "execution_count": 44,
   "metadata": {},
   "outputs": [
    {
     "data": {
      "text/plain": [
       "[(1) '<div class=\"second\">\n",
       "      Nothing to add.\n",
       "      Except maybe this <a href=\"page3.html\">other link</a>. \n",
       "      <!-- And this comment -->\n",
       "    </div>']"
      ]
     },
     "execution_count": 44,
     "metadata": {},
     "output_type": "execute_result"
    }
   ],
   "source": [
    "doc.xpath('//body/div/div[last()]')"
   ]
  },
  {
   "cell_type": "markdown",
   "metadata": {},
   "source": [
    "#### Position ranges\n",
    "\n",
    "TODO: things like `//table/tbody/tr[position() > 2]`"
   ]
  },
  {
   "cell_type": "markdown",
   "metadata": {},
   "source": [
    "### Location paths as predicates\n",
    "\n",
    "TODO: things like `//table[tr/div/a]`"
   ]
  },
  {
   "cell_type": "markdown",
   "metadata": {},
   "source": [
    "### Boolean predicates\n",
    "\n",
    "TODO: things like `//table[count(tr)=10]`\n",
    "\n",
    "#### Special case of string value tests\n",
    "\n",
    "TODO: things like `//table[.//img/@src=\"pic.png\"]` or `//table[th=\"Some headers\"]`\n",
    "\n",
    "#### Special trick for testing multiple node names\n",
    "\n",
    "TODO: things like `./descendant-or-self::*[self::ul or self::ol]`"
   ]
  },
  {
   "cell_type": "markdown",
   "metadata": {},
   "source": [
    "### Nested predicates\n",
    "\n",
    "We said that location paths can be used as predicate. And location paths can have predicates. So it's possible end up with nested predicates."
   ]
  },
  {
   "cell_type": "code",
   "execution_count": 45,
   "metadata": {},
   "outputs": [
    {
     "data": {
      "text/plain": [
       "[(1) '<div>\n",
       "      <p>This is a paragraph.</p>\n",
       "      <p>Is this <a href=\"page2.html\">a link</a>?</p>\n",
       "      <br>\n",
       "      Apparently.\n",
       "    </div>']"
      ]
     },
     "execution_count": 45,
     "metadata": {},
     "output_type": "execute_result"
    }
   ],
   "source": [
    "#                <------predicate --------->\n",
    "#                    <-nested predicate->\n",
    "doc.xpath('//div[p  [a/@href=\"page2.html\"]  ]')"
   ]
  },
  {
   "cell_type": "markdown",
   "metadata": {},
   "source": [
    "In fact, the above is equivalent to `//div[p/a/@href=\"page2.html\"]` with no nesting:"
   ]
  },
  {
   "cell_type": "code",
   "execution_count": 46,
   "metadata": {},
   "outputs": [
    {
     "data": {
      "text/plain": [
       "[(1) '<div>\n",
       "      <p>This is a paragraph.</p>\n",
       "      <p>Is this <a href=\"page2.html\">a link</a>?</p>\n",
       "      <br>\n",
       "      Apparently.\n",
       "    </div>']"
      ]
     },
     "execution_count": 46,
     "metadata": {},
     "output_type": "execute_result"
    }
   ],
   "source": [
    "doc.xpath('//div[p/a/@href=\"page2.html\"]')"
   ]
  },
  {
   "cell_type": "markdown",
   "metadata": {},
   "source": [
    "### Order of predicates is important\n",
    "\n",
    "You can have multiple predicates in sequence per step, each within its `[]` brackets, i.e. steps in the form of `axis::nodetest[predicate#1][predicate#2][predicate#3]...`\n",
    "\n",
    "Predicates are processed in order, from left to right. And the output of one predicate is fed into the next predicate filter, much like steps produce node-sets for the next step to process.\n",
    "\n",
    "So the order of predicates is important.\n",
    "\n",
    "The following 2 location paths produce different results:\n"
   ]
  },
  {
   "cell_type": "code",
   "execution_count": 47,
   "metadata": {},
   "outputs": [
    {
     "data": {
      "text/plain": [
       "[(1) '<div class=\"second\">\n",
       "      Nothing to add.\n",
       "      Except maybe this <a href=\"page3.html\">other link</a>. \n",
       "      <!-- And this comment -->\n",
       "    </div>']"
      ]
     },
     "execution_count": 47,
     "metadata": {},
     "output_type": "execute_result"
    }
   ],
   "source": [
    "doc.xpath('//div[2][@class=\"second\"]')"
   ]
  },
  {
   "cell_type": "code",
   "execution_count": 48,
   "metadata": {},
   "outputs": [
    {
     "data": {
      "text/plain": [
       "[]"
      ]
     },
     "execution_count": 48,
     "metadata": {},
     "output_type": "execute_result"
    }
   ],
   "source": [
    "doc.xpath('//div[@class=\"second\"][2]')"
   ]
  },
  {
   "cell_type": "markdown",
   "metadata": {},
   "source": [
    "The 2nd produces nothing. Why is that?\n",
    "\n",
    "`//div[2][@class=\"second\"]` looks at `div` elements that are the 2nd child of their parent (because `div` means `child::div`, and `[2]` will select the 2nd node in the current node-set.\n",
    "In our document this happens only once.\n",
    "The final predicate, `[@class=\"second\"]`, filter nodes that have a \"class\" attribute with value \"second\". This happens to be valid for that 2nd child `div`.\n",
    "\n",
    "On the contrary, `//div[@class=\"second\"][2]` will first produce `//div[@class=\"second\"]`, which only produces single-node node-sets (again, there's only 1 `div` with \"class\" attribute with value \"second\").\n",
    "So the subsequent `[2]` predicate will never match with single-node node-sets."
   ]
  },
  {
   "cell_type": "markdown",
   "metadata": {},
   "source": [
    "### Abbreviation cheatsheet"
   ]
  },
  {
   "cell_type": "markdown",
   "metadata": {},
   "source": [
    "| Abbreviated step             | Meaning    \n",
    "|------------------------------|-------------------------------------------------\n",
    "| `*` (asterisk)               | all **element** nodes (i.e. not text nodes, not attribute nodes;\n",
    "|                              | remember that `.//*` is not the same as `.//node()`;\n",
    "|                              | also, there's not `element()` node test\n",
    "| `@*`                         | `attribute::*` (all attribute nodes)\n",
    "| `//`                         | `/descendant-or-self::node()/\n",
    "|                              | exactly this, nothing more,  nothing less,\n",
    "|                              | so `//*` is not the same as `/descendant-or-self::*`\n",
    "| `.` (a single dot)           | `self::node()`, the context node; useful for formation a relative XPath\n",
    "|                              | e.g. `.//tr`\n",
    "| `..` (2 dots)                | `parent::node()`\n",
    "\n",
    "TODO: explain why `//*` is not the same as `/descendant-or-self::*`"
   ]
  },
  {
   "cell_type": "markdown",
   "metadata": {},
   "source": [
    "## String functions\n",
    "\n",
    "TODO"
   ]
  },
  {
   "cell_type": "markdown",
   "metadata": {},
   "source": [
    "# Part 3: Use-cases for web scraping\n",
    "\n",
    "TODO"
   ]
  },
  {
   "cell_type": "markdown",
   "metadata": {},
   "source": [
    "## Text extraction\n",
    "\n",
    "TODO"
   ]
  },
  {
   "cell_type": "markdown",
   "metadata": {},
   "source": [
    "## Attributes extraction\n",
    "\n",
    "TODO\n",
    "\n",
    "### Attribute names extractions\n",
    "\n",
    "TODO"
   ]
  },
  {
   "cell_type": "markdown",
   "metadata": {},
   "source": [
    "## CSS Selectors\n",
    "\n",
    "TODO"
   ]
  },
  {
   "cell_type": "markdown",
   "metadata": {},
   "source": [
    "## Loop on elements (table rows, lists)\n",
    "\n",
    "TODO"
   ]
  },
  {
   "cell_type": "markdown",
   "metadata": {},
   "source": [
    "## Element boundaries & XPath buckets (advanced)\n",
    "\n",
    "TODO"
   ]
  },
  {
   "cell_type": "markdown",
   "metadata": {},
   "source": [
    "## EXSLT extensions\n",
    "\n",
    "TODO"
   ]
  },
  {
   "cell_type": "markdown",
   "metadata": {},
   "source": [
    "# Summary of tips\n",
    "\n",
    "* Use relative XPath expressions whenever possible\n",
    "* Know your axes!\n",
    "* Don't forget that XPath has `string()` and `normalize-space()` functions\n",
    "* **`text()` is a node test**, not a function call\n",
    "* CSS selectors are very handy, easier to maintain, but also less powerful than XPath"
   ]
  },
  {
   "cell_type": "code",
   "execution_count": null,
   "metadata": {
    "collapsed": true
   },
   "outputs": [],
   "source": []
  }
 ],
 "metadata": {
  "kernelspec": {
   "display_name": "Python 3",
   "language": "python",
   "name": "python3"
  },
  "language_info": {
   "codemirror_mode": {
    "name": "ipython",
    "version": 3
   },
   "file_extension": ".py",
   "mimetype": "text/x-python",
   "name": "python",
   "nbconvert_exporter": "python",
   "pygments_lexer": "ipython3",
   "version": "3.6.0+"
  }
 },
 "nbformat": 4,
 "nbformat_minor": 2
}
