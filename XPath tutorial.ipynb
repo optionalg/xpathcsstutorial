{
 "cells": [
  {
   "cell_type": "markdown",
   "metadata": {},
   "source": [
    "# Part 1: What is XPath?\n",
    "\n",
    "## XPath is a language\n",
    "\n",
    "> XPath is a language for addressing parts of an XML document \n",
    "> \n",
    "\n",
    "-- from [XML Path Language 1.0](https://www.w3.org/TR/xpath/)</cite>\n",
    "\n",
    "This abstract from the official specifications says it all:\n",
    "\n",
    "* \"is a language\": you pass a character string (an XPath expression)...\n",
    "* \"for addressing parts of an XML document\": ...a string that that you pass to an XPath engine acting over an XML (or HTML) document, outputting parts of it following the data model below.\n",
    "\n",
    "XPath [data model](http://www.w3.org/TR/xpath/#data-model) is a tree of nodes:\n",
    "* element nodes (`<p>...</p>`)\n",
    "* attribute nodes (`href=\"page.html\"`)\n",
    "* text nodes (`\"Some Title\"`)\n",
    "* comment nodes (`<!-- a comment -->`)\n",
    "* (and 3 other types that we won’t cover here.)\n",
    "\n",
    "In effect, this data model allows you to represent everything inside an XML or HTML document, in a structured and hierarchical way."
   ]
  },
  {
   "cell_type": "markdown",
   "metadata": {},
   "source": [
    "## Why learn XPath?\n",
    "\n",
    "* navigate **everywhere** inside a DOM tree\n",
    "* a must-have skill for accurate web data extraction\n",
    "* more powerful than CSS selectors\n",
    "* fine-grained look at the text content\n",
    "* complex conditioning with axes\n",
    "* extensible with custom functions (we won’t cover that in this talk though)"
   ]
  },
  {
   "cell_type": "markdown",
   "metadata": {},
   "source": [
    "## XPath data model and first examples\n",
    "\n",
    "Let's use this sample HTML page to illustrate how XPath works:\n",
    "\n",
    "```\n",
    "<html>\n",
    "<head>\n",
    "  <title>This is a title</title>\n",
    "  <meta content=\"text/html; charset=utf-8\" http-equiv=\"content-type\">\n",
    "</head>\n",
    "<body>\n",
    "  <div>\n",
    "    <div>\n",
    "      <p>This is a paragraph.</p>\n",
    "      <p>Is this <a href=\"page2.html\">a link</a>?</p>\n",
    "      <br>\n",
    "      Apparently.\n",
    "    </div>\n",
    "    <div class=\"second\">\n",
    "      Nothing to add.\n",
    "      Except maybe this <a href=\"page3.html\">other link</a>. \n",
    "      <!-- And this comment -->\n",
    "    </div>\n",
    "  </div>\n",
    "</body>\n",
    "</html>\n",
    "```"
   ]
  },
  {
   "cell_type": "code",
   "execution_count": 1,
   "metadata": {
    "collapsed": true
   },
   "outputs": [],
   "source": [
    "import libxml2"
   ]
  },
  {
   "cell_type": "code",
   "execution_count": 2,
   "metadata": {
    "collapsed": true
   },
   "outputs": [],
   "source": [
    "htmlsample = '''<html>\n",
    "<head>\n",
    "  <title>This is a title</title>\n",
    "  <meta content=\"text/html; charset=utf-8\" http-equiv=\"content-type\" />\n",
    "</head>\n",
    "<body>\n",
    "  <div>\n",
    "    <div>\n",
    "      <p>This is a paragraph.</p>\n",
    "      <p>Is this <a href=\"page2.html\">a link</a>?</p>\n",
    "      <br />\n",
    "      Apparently.\n",
    "    </div>\n",
    "    <div class=\"second\">\n",
    "      Nothing to add.\n",
    "      Except maybe this <a href=\"page3.html\">other link</a>. \n",
    "      <!-- And this comment -->\n",
    "    </div>\n",
    "  </div>\n",
    "</body>\n",
    "</html>'''"
   ]
  },
  {
   "cell_type": "code",
   "execution_count": 3,
   "metadata": {
    "collapsed": true
   },
   "outputs": [],
   "source": [
    "doc = libxml2.htmlReadDoc(htmlsample, 'http://www.example.com', 'utf-8', 0)"
   ]
  },
  {
   "cell_type": "markdown",
   "metadata": {},
   "source": [
    "In XPath's data model, everything is a node : elements, attributes, comments... (but not all nodes are elements for example.)\n",
    "\n",
    "And nodes  have an order, the **document order**, the order they appear in the XML/HTML source.\n",
    "\n",
    "The little function below builds an ASCII tree representation of the HTML document. You don't have to understand what it does right now, simply look at the output:"
   ]
  },
  {
   "cell_type": "code",
   "execution_count": 4,
   "metadata": {},
   "outputs": [
    {
     "name": "stdout",
     "output_type": "stream",
     "text": [
      "# 0--(ROOT)\n",
      " +-- # 1--<html>\n",
      "     +-- # 2--(TXT): '\\n'\n",
      "     +-- # 3--<head>\n",
      "     |   +-- # 4--(TXT): '\\n  '\n",
      "     |   +-- # 5--<title>\n",
      "     |   |   +-- # 6--(TXT): 'This is a title'\n",
      "     |   +-- # 7--(TXT): '\\n  '\n",
      "     |   +-- # 8--<meta>\n",
      "     |   |   +-- # 9--(ATTR): content: 'text/html; charset=utf-8'\n",
      "     |   |   +-- #10--(ATTR): http-equiv: 'content-type'\n",
      "     |   +-- #11--(TXT): '\\n'\n",
      "     +-- #12--(TXT): '\\n'\n",
      "     +-- #13--<body>\n",
      "     |   +-- #14--(TXT): '\\n  '\n",
      "     |   +-- #15--<div>\n",
      "     |   |   +-- #16--(TXT): '\\n    '\n",
      "     |   |   +-- #17--<div>\n",
      "     |   |   |   +-- #18--(TXT): '\\n      '\n",
      "     |   |   |   +-- #19--<p>\n",
      "     |   |   |   |   +-- #20--(TXT): 'This is a paragraph.'\n",
      "     |   |   |   +-- #21--(TXT): '\\n      '\n",
      "     |   |   |   +-- #22--<p>\n",
      "     |   |   |   |   +-- #23--(TXT): 'Is this '\n",
      "     |   |   |   |   +-- #24--<a>\n",
      "     |   |   |   |   |   +-- #25--(ATTR): href: 'page2.html'\n",
      "     |   |   |   |   |   +-- #26--(TXT): 'a link'\n",
      "     |   |   |   |   +-- #27--(TXT): '?'\n",
      "     |   |   |   +-- #28--(TXT): '\\n      '\n",
      "     |   |   |   +-- #29--<br>\n",
      "     |   |   |   +-- #30--(TXT): '\\n      Apparently.\\n    '\n",
      "     |   |   +-- #31--(TXT): '\\n    '\n",
      "     |   |   +-- #32--<div>\n",
      "     |   |   |   +-- #33--(ATTR): class: 'second'\n",
      "     |   |   |   +-- #34--(TXT): '\\n      Nothing to add.\\n      Except maybe this '\n",
      "     |   |   |   +-- #35--<a>\n",
      "     |   |   |   |   +-- #36--(ATTR): href: 'page3.html'\n",
      "     |   |   |   |   +-- #37--(TXT): 'other link'\n",
      "     |   |   |   +-- #38--(TXT): '. \\n      '\n",
      "     |   |   |   +-- #39--(COMM): ' And this comment '\n",
      "     |   |   |   +-- #40--(TXT): '\\n    '\n",
      "     |   |   +-- #41--(TXT): '\\n  '\n",
      "     |   +-- #42--(TXT): '\\n'\n",
      "     +-- #43--(TXT): '\\n'\n"
     ]
    }
   ],
   "source": [
    "from collections import OrderedDict\n",
    "from asciitree import LeftAligned\n",
    "\n",
    "\n",
    "order = 0\n",
    "def traverse(node, accept=('text', 'attribute', 'comment'), ignore_empty_text=True):\n",
    "    global order\n",
    "    children_list = OrderedDict()\n",
    "    _name = \"#%2d--<%s>\" % (order, node.name)\n",
    "    _type = node.get_type()\n",
    "    if node.isText():\n",
    "        if 'text' not in accept:\n",
    "            return\n",
    "        if ignore_empty_text and not node.content.strip():\n",
    "            return\n",
    "        _content = '#%2d--(TXT): %r' % (order, node.content)\n",
    "    elif _type == 'attribute':\n",
    "        if 'attribute' not in accept:\n",
    "            return\n",
    "        _content = '#%2d--(ATTR): %s: %r' % (order, node.name, node.content)\n",
    "    elif _type == 'comment':\n",
    "        if 'comment' not in accept:\n",
    "            return\n",
    "        _content = '#%2d--(COMM): %r' % (order, node.content)\n",
    "    elif _type == 'document_html':\n",
    "        _content = '#%2d--(ROOT)' % (order,)\n",
    "    else:\n",
    "        _content = _name\n",
    "    \n",
    "    for child in node.xpathEval('(child::node() | attribute::*)'):\n",
    "        order += 1\n",
    "        r = traverse(child, accept=accept, ignore_empty_text=ignore_empty_text)\n",
    "        if r is not None:\n",
    "            children_list.update(r)\n",
    "            \n",
    "    return {_content: children_list}\n",
    "\n",
    "\n",
    "tr = LeftAligned()\n",
    "print(tr(OrderedDict(traverse(doc, ignore_empty_text=False))))"
   ]
  },
  {
   "cell_type": "markdown",
   "metadata": {},
   "source": [
    "You can see various tree branches and leaves:\n",
    "\n",
    "* e.g. `<div>` or `<p>`: these are element nodes\n",
    "* `(TXT)` represent text nodes\n",
    "* `(ATTR)` represent attribute nodes\n",
    "* `(COMM)` represent comment nodes"
   ]
  },
  {
   "cell_type": "markdown",
   "metadata": {},
   "source": [
    "## XPath return types\n",
    "\n",
    "When applied over a document, an XPath expression can return either:\n",
    "\n",
    "* a node-set (most common case, and most often element nodes)\n",
    "* a string\n",
    "* a number (floating point)\n",
    "* a boolean\n",
    "\n",
    "**Note: When an XPath expression returns node-sets, you do get a set of nodes, even if there's only one node in the set.**\n",
    "\n",
    "## XPath expressions\n",
    "\n",
    "We will now take a look at some example XPath expressions to get a feeling of how they work. We'll explain the syntax in more details later on.\n",
    "\n",
    "XPath expressions are passed to an XPath engine as strings. Here we are using `libxml2`'s `.xpathEval()` method on a parsed HTML document object.\n",
    "\n",
    "### Selecting the root node of a document\n",
    "\n",
    "The root node is a special node:\n",
    "\n",
    "> The root node is the root of the tree. A root node does not occur except as the root of the tree. The element node for the document element is a child of the root node.\n",
    "\n",
    "Selecting the root node of a document with XPath is one of the shortest XPath expressions: `/` (a forward slash).\n",
    "\n",
    "This is very similar to `cd /` (going to the root directory) in a shell within a Unix filesystem."
   ]
  },
  {
   "cell_type": "code",
   "execution_count": 5,
   "metadata": {},
   "outputs": [
    {
     "data": {
      "text/plain": [
       "[<xmlDoc (http://www.example.com) object at 0x7f0b9be09170>]"
      ]
     },
     "execution_count": 5,
     "metadata": {},
     "output_type": "execute_result"
    }
   ],
   "source": [
    "# XPath expression\n",
    "#              |\n",
    "#              v\n",
    "doc.xpathEval('/')"
   ]
  },
  {
   "cell_type": "markdown",
   "metadata": {},
   "source": [
    "### Selecting elements (a.k.a \"tags\")\n"
   ]
  },
  {
   "cell_type": "markdown",
   "metadata": {},
   "source": [
    "Children of the root node: the HTML element (a node-set)"
   ]
  },
  {
   "cell_type": "code",
   "execution_count": 6,
   "metadata": {},
   "outputs": [
    {
     "data": {
      "text/plain": [
       "[<xmlNode (html) object at 0x7f0b941a05f0>]"
      ]
     },
     "execution_count": 6,
     "metadata": {},
     "output_type": "execute_result"
    }
   ],
   "source": [
    "# XPath expression\n",
    "#               |\n",
    "#             |<>|\n",
    "doc.xpathEval('/*')"
   ]
  },
  {
   "cell_type": "markdown",
   "metadata": {},
   "source": [
    "The asterisk here, `*`, means \"any element\". And `/*` means \"any element under the root node\". HTML documents (usually) have only 1 element like this: the `<html>` tag.\n",
    "\n",
    "Get `<title>` elements, with its explicit path from root:"
   ]
  },
  {
   "cell_type": "code",
   "execution_count": 7,
   "metadata": {},
   "outputs": [
    {
     "data": {
      "text/plain": [
       "[<xmlNode (title) object at 0x7f0b941b1ab8>]"
      ]
     },
     "execution_count": 7,
     "metadata": {},
     "output_type": "execute_result"
    }
   ],
   "source": [
    "#               XPath expression\n",
    "#                       |\n",
    "#             |<-------------->|\n",
    "doc.xpathEval('/html/head/title')"
   ]
  },
  {
   "cell_type": "markdown",
   "metadata": {},
   "source": [
    "Again, if you are familiar with the Unix filesystem, you probably intuitively understand what this does:\n",
    "* start from the root (of the document)\n",
    "* select the `<html>` node\n",
    "* select the `<head>` node under the `<html>` node\n",
    "* select the `<title>` node under the `<head>` node\n",
    "\n",
    "In other words, the XPath expression represents the path from the root node to the target node(s). Much file a Unix filepath represents the path from the filesystem root to the target file(s).\n",
    "\n",
    "Selecting text nodes is a bit different: you use the special `text()` syntax.\n",
    "\n",
    "Get the text nodes of `<title>` elements (remember that `<title>` is an element, and that is happens to contain a text node, the text value \"This is a title\":"
   ]
  },
  {
   "cell_type": "code",
   "execution_count": 8,
   "metadata": {},
   "outputs": [
    {
     "data": {
      "text/plain": [
       "[<xmlNode (text) object at 0x7f0b941c1d40>]"
      ]
     },
     "execution_count": 8,
     "metadata": {},
     "output_type": "execute_result"
    }
   ],
   "source": [
    "#                   XPath expression\n",
    "#                          |\n",
    "#             |<--------------------->|\n",
    "doc.xpathEval('/html/head/title/text()')"
   ]
  },
  {
   "cell_type": "markdown",
   "metadata": {},
   "source": [
    "Selecting all paragraph elements inside the HTML body:"
   ]
  },
  {
   "cell_type": "code",
   "execution_count": 9,
   "metadata": {},
   "outputs": [
    {
     "data": {
      "text/plain": [
       "[<xmlNode (p) object at 0x7f0b941c1a28>,\n",
       " <xmlNode (p) object at 0x7f0b941c1ef0>]"
      ]
     },
     "execution_count": 9,
     "metadata": {},
     "output_type": "execute_result"
    }
   ],
   "source": [
    "#           XPath expression\n",
    "#                  |\n",
    "#             |<------->|\n",
    "doc.xpathEval('//body//p')"
   ]
  },
  {
   "cell_type": "markdown",
   "metadata": {},
   "source": [
    "Here, we're introducing the double-slash (`//`) syntax to do multi-hop lookups.\n",
    "\n",
    "If you don't know (or don't care about) the level where the element that you need is located (relative to the root node), `//` tells the XPath engine to search recursively further down the tree, and not directly one-level deeper like the examples above.\n",
    "\n",
    "\n",
    "### Selecting attributes\n",
    "\n",
    "Elements can also have attributes. In the sample HTML document we are using, we have 2 `<a>` elements, each with a `href` attribute. There's also a `<meta>` element with 2 attributes: `content` and `http-equiv`.\n",
    "\n",
    "This is how you can select these attributes with an `@` prefix before the attribute name:"
   ]
  },
  {
   "cell_type": "code",
   "execution_count": 10,
   "metadata": {},
   "outputs": [
    {
     "data": {
      "text/plain": [
       "[<xmlAttr (href) object at 0x7f0b941ae0e0>,\n",
       " <xmlAttr (href) object at 0x7f0b941ae320>]"
      ]
     },
     "execution_count": 10,
     "metadata": {},
     "output_type": "execute_result"
    }
   ],
   "source": [
    "doc.xpathEval('//a/@href')"
   ]
  },
  {
   "cell_type": "code",
   "execution_count": 11,
   "metadata": {},
   "outputs": [
    {
     "data": {
      "text/plain": [
       "[<xmlAttr (content) object at 0x7f0b941ae2d8>,\n",
       " <xmlAttr (http-equiv) object at 0x7f0b941ae5a8>]"
      ]
     },
     "execution_count": 11,
     "metadata": {},
     "output_type": "execute_result"
    }
   ],
   "source": [
    "doc.xpathEval('//meta/@*')"
   ]
  },
  {
   "cell_type": "markdown",
   "metadata": {},
   "source": [
    "The asterisk here after `@` means the same thing as in `/*` expect that this is for attributes, and not elements: meaning that you want all attributes, whatever their name.\n",
    "\n",
    "### Get a string representation of an element"
   ]
  },
  {
   "cell_type": "code",
   "execution_count": 12,
   "metadata": {},
   "outputs": [
    {
     "data": {
      "text/plain": [
       "'This is a title'"
      ]
     },
     "execution_count": 12,
     "metadata": {},
     "output_type": "execute_result"
    }
   ],
   "source": [
    "#                    XPath expression\n",
    "#                           |\n",
    "#             |<---------------------->|\n",
    "doc.xpathEval('string(/html/head/title)')"
   ]
  },
  {
   "cell_type": "markdown",
   "metadata": {},
   "source": [
    "This example uses one of several handy string functions in XPath. `string()` will concatenate all text content from the selected node and all of its children, recursively, effectively stripping HTML tags.\n",
    "\n",
    "### Counting elements\n",
    "\n",
    "Number of paragraphs in the document:"
   ]
  },
  {
   "cell_type": "code",
   "execution_count": 13,
   "metadata": {},
   "outputs": [
    {
     "data": {
      "text/plain": [
       "2.0"
      ]
     },
     "execution_count": 13,
     "metadata": {},
     "output_type": "execute_result"
    }
   ],
   "source": [
    "#           XPath expression\n",
    "#                   |\n",
    "#             |<-------->|\n",
    "doc.xpathEval('count(//p)')"
   ]
  },
  {
   "cell_type": "markdown",
   "metadata": {},
   "source": [
    "Note that you get a floating point number back.\n",
    "\n",
    "Number of attributes in the document (whatever their parent element):"
   ]
  },
  {
   "cell_type": "code",
   "execution_count": 14,
   "metadata": {},
   "outputs": [
    {
     "data": {
      "text/plain": [
       "5.0"
      ]
     },
     "execution_count": 14,
     "metadata": {},
     "output_type": "execute_result"
    }
   ],
   "source": [
    "#           XPath expression\n",
    "#                   |\n",
    "#             |<-------->|\n",
    "doc.xpathEval('count(//@*)')"
   ]
  },
  {
   "cell_type": "markdown",
   "metadata": {},
   "source": [
    "### Boolean operations\n",
    "\n",
    "For example, testing the number of paragraphs:"
   ]
  },
  {
   "cell_type": "code",
   "execution_count": 15,
   "metadata": {},
   "outputs": [
    {
     "data": {
      "text/plain": [
       "1"
      ]
     },
     "execution_count": 15,
     "metadata": {},
     "output_type": "execute_result"
    }
   ],
   "source": [
    "doc.xpathEval('count(//p) = 2')"
   ]
  },
  {
   "cell_type": "code",
   "execution_count": 16,
   "metadata": {},
   "outputs": [
    {
     "data": {
      "text/plain": [
       "0"
      ]
     },
     "execution_count": 16,
     "metadata": {},
     "output_type": "execute_result"
    }
   ],
   "source": [
    "doc.xpathEval('count(//p) = 42')"
   ]
  },
  {
   "cell_type": "markdown",
   "metadata": {},
   "source": [
    "# Part 2: Location Paths: how to move inside the document tree"
   ]
  },
  {
   "cell_type": "markdown",
   "metadata": {},
   "source": [
    "A **Location path** is the most common XPath expression.\n",
    "\n",
    "It is used to move in any direction from a starting point (*the context node*) to any node(s) in the tree:\n",
    "\n",
    "* It is a string, with a series of “steps”: `\"step1 / step2 / step3 ...\"`\n",
    "\n",
    "* It represents the selection and filtering of nodes, processed step by step, from left to right.\n",
    "\n",
    "* Each step is of the form: `AXIS :: NODETEST [PREDICATE]*`\n",
    "\n",
    "Note: whitespace does NOT matter, except for `“//”`, (`“/ /”` is a syntax error.)\n",
    "\n",
    "So **don’t be afraid of indenting your XPath expressions**. The following 3 expressions produce the same result\n"
   ]
  },
  {
   "cell_type": "code",
   "execution_count": 17,
   "metadata": {},
   "outputs": [
    {
     "data": {
      "text/plain": [
       "[<xmlNode (title) object at 0x7f0b941ae9e0>]"
      ]
     },
     "execution_count": 17,
     "metadata": {},
     "output_type": "execute_result"
    }
   ],
   "source": [
    "doc.xpathEval('/html/head/title')"
   ]
  },
  {
   "cell_type": "code",
   "execution_count": 18,
   "metadata": {},
   "outputs": [
    {
     "data": {
      "text/plain": [
       "[<xmlNode (title) object at 0x7f0b941aea70>]"
      ]
     },
     "execution_count": 18,
     "metadata": {},
     "output_type": "execute_result"
    }
   ],
   "source": [
    "doc.xpathEval('/    html   / head   /title')"
   ]
  },
  {
   "cell_type": "code",
   "execution_count": 19,
   "metadata": {},
   "outputs": [
    {
     "data": {
      "text/plain": [
       "[<xmlNode (title) object at 0x7f0b941aed40>]"
      ]
     },
     "execution_count": 19,
     "metadata": {},
     "output_type": "execute_result"
    }
   ],
   "source": [
    "doc.xpathEval('''\n",
    "    /html\n",
    "        /head\n",
    "            /title''')"
   ]
  },
  {
   "cell_type": "markdown",
   "metadata": {},
   "source": [
    "## Relative vs. absolute paths\n",
    "\n",
    "Location paths can be relative or absolute:\n",
    "\n",
    "* `\"step1/step2/step3\"` is relative\n",
    "* `\"/step1/step2/step3\"` is absolute\n",
    "\n",
    "i.e. an absolute path is a relative path starting with \"/\" (slash)\n",
    "\n",
    "In other terms, absolute paths are relative to the root node.\n",
    "\n",
    "**Tip**: use relative paths whenever possible. This prevents unexpected selection of same nodes in loop iterations.\n",
    "\n",
    "For example, in our sample document, only one `<div>` contains paragraphs. Looping on each `<div>` and using the absolute location path `//p` will produce the same result for each iteration: returning ALL paragraphs in the document everytime.\n"
   ]
  },
  {
   "cell_type": "code",
   "execution_count": 20,
   "metadata": {},
   "outputs": [
    {
     "name": "stdout",
     "output_type": "stream",
     "text": [
      "[<xmlNode (p) object at 0x7f0b941ab128>, <xmlNode (p) object at 0x7f0b941ab170>]\n",
      "[<xmlNode (p) object at 0x7f0b941ab128>, <xmlNode (p) object at 0x7f0b941ab1b8>]\n",
      "[<xmlNode (p) object at 0x7f0b941ab128>, <xmlNode (p) object at 0x7f0b941ab290>]\n"
     ]
    }
   ],
   "source": [
    "for div in doc.xpathEval('//body//div'):\n",
    "    print(div.xpathEval('//p'))"
   ]
  },
  {
   "cell_type": "markdown",
   "metadata": {},
   "source": [
    "Compare this with using the relative `p` or `./p` that will only look at children `<p>` under from each `<div>`, and only 1 of those `<div>` will show having paragraphs:"
   ]
  },
  {
   "cell_type": "code",
   "execution_count": 21,
   "metadata": {},
   "outputs": [
    {
     "name": "stdout",
     "output_type": "stream",
     "text": [
      "[]\n",
      "[<xmlNode (p) object at 0x7f0b941ab290>, <xmlNode (p) object at 0x7f0b941ab200>]\n",
      "[]\n"
     ]
    }
   ],
   "source": [
    "for div in doc.xpathEval('//body//div'):\n",
    "    print(div.xpathEval('p'))"
   ]
  },
  {
   "cell_type": "code",
   "execution_count": 22,
   "metadata": {},
   "outputs": [
    {
     "name": "stdout",
     "output_type": "stream",
     "text": [
      "[]\n",
      "[<xmlNode (p) object at 0x7f0b941ab200>, <xmlNode (p) object at 0x7f0b941ab2d8>]\n",
      "[]\n"
     ]
    }
   ],
   "source": [
    "for div in doc.xpathEval('//body//div'):\n",
    "    print(div.xpathEval('./p'))"
   ]
  },
  {
   "cell_type": "markdown",
   "metadata": {},
   "source": [
    "## Abbreviated syntax\n",
    "\n",
    "What we’ve seen earlier is in fact “abbreviated syntax”.\n",
    "\n",
    "Full syntax is quite verbose:\n",
    "\n",
    "| Abbreviated syntax           | Full syntax\n",
    "|------------------------------|-------------------------------------------------\n",
    "| `/html/head/title`           | `/child::html /child:: head /child:: title`\n",
    "| `//meta/@content`            | `/descendant-or-self::node() /child::meta /attribute::content`\n",
    "| `//div/div[@class=\"second\"]` | `/descendant-or-self::node() /child::div /child::div [attribute::class = \"second\"]`\n",
    "| `//div/a/text()`             | `/descendant-or-self::node() /child::div /child::a /child::text()`"
   ]
  },
  {
   "cell_type": "markdown",
   "metadata": {},
   "source": [
    "## Axes: moving around\n",
    "\n",
    "The \"axis\" is the first part of each location path step. It can be explicit or implicit in abbreviated syntax.\n",
    "\n",
    "In this section, we'll use explicit axes as much as we can.\n",
    "\n",
    "**AXIS** :: _nodetest [predicate]*_\n",
    "\n",
    "**Axes give the direction to go next.**\n",
    "\n",
    "* `self` (where you are)\n",
    "* `parent`, `child` (direct hop)\n",
    "* `ancestor`, `ancestor-or-self`, `descendant`, `descendant-or-self` (multi-hop)\n",
    "* `following`, `following-sibling`, `preceding`, `preceding-sibling` (document order)\n",
    "* `attribute`, `namespace` (non-element)"
   ]
  },
  {
   "cell_type": "markdown",
   "metadata": {},
   "source": [
    "### Move up or down the tree\n",
    "\n",
    "Let's assume that we have selected the first `<div>` element in our sample document, the one just under the `<body>` element:"
   ]
  },
  {
   "cell_type": "code",
   "execution_count": 23,
   "metadata": {
    "collapsed": true
   },
   "outputs": [],
   "source": [
    "first_div = doc.xpathEval('//body/div')[0]"
   ]
  },
  {
   "cell_type": "markdown",
   "metadata": {},
   "source": [
    "The `self` axis represents *the context node*, i.e. where you are currently in the Location Path step. (This may not sounds very useful, but we will see later when this can be handy.)"
   ]
  },
  {
   "cell_type": "code",
   "execution_count": 24,
   "metadata": {},
   "outputs": [
    {
     "data": {
      "text/plain": [
       "[<xmlNode (div) object at 0x7f0b941ab0e0>]"
      ]
     },
     "execution_count": 24,
     "metadata": {},
     "output_type": "execute_result"
    }
   ],
   "source": [
    "first_div.xpathEval('self::*')"
   ]
  },
  {
   "cell_type": "markdown",
   "metadata": {},
   "source": [
    "The `child` axis is for immediate children nodes of the context node. Here, our context `<div>` node has 2 `<div>` children:"
   ]
  },
  {
   "cell_type": "code",
   "execution_count": 25,
   "metadata": {},
   "outputs": [
    {
     "data": {
      "text/plain": [
       "[<xmlNode (div) object at 0x7f0b941ab2d8>,\n",
       " <xmlNode (div) object at 0x7f0b941ab4d0>]"
      ]
     },
     "execution_count": 25,
     "metadata": {},
     "output_type": "execute_result"
    }
   ],
   "source": [
    "first_div.xpathEval('child::*')"
   ]
  },
  {
   "cell_type": "markdown",
   "metadata": {},
   "source": [
    "The `parent` axis is the dual of `child`: you go up one level in the DOM:"
   ]
  },
  {
   "cell_type": "code",
   "execution_count": 26,
   "metadata": {},
   "outputs": [
    {
     "data": {
      "text/plain": [
       "[<xmlNode (body) object at 0x7f0b941ab518>]"
      ]
     },
     "execution_count": 26,
     "metadata": {},
     "output_type": "execute_result"
    }
   ],
   "source": [
    "first_div.xpathEval('parent::*')"
   ]
  },
  {
   "cell_type": "markdown",
   "metadata": {},
   "source": [
    "Let's simplify our ASCII tree representation from earlier to only consider element nodes:"
   ]
  },
  {
   "cell_type": "code",
   "execution_count": 27,
   "metadata": {},
   "outputs": [
    {
     "name": "stdout",
     "output_type": "stream",
     "text": [
      "# 0--(ROOT)\n",
      " +-- # 1--<html>\n",
      "     +-- # 3--<head>\n",
      "     |   +-- # 5--<title>\n",
      "     |   +-- # 8--<meta>\n",
      "     +-- #13--<body>\n",
      "         +-- #15--<div>\n",
      "             +-- #17--<div>\n",
      "             |   +-- #19--<p>\n",
      "             |   +-- #22--<p>\n",
      "             |   |   +-- #24--<a>\n",
      "             |   +-- #29--<br>\n",
      "             +-- #32--<div>\n",
      "                 +-- #35--<a>\n"
     ]
    }
   ],
   "source": [
    "order = 0\n",
    "tr = LeftAligned()\n",
    "print(tr(OrderedDict(traverse(doc, accept=('element'), ignore_empty_text=False))))"
   ]
  },
  {
   "cell_type": "markdown",
   "metadata": {},
   "source": [
    "With this simplified tree representation, this is what `self`, `child` and `parent` select:\n",
    "\n",
    "```\n",
    "                # 0--(ROOT)\n",
    "                 +-- # 1--<html>\n",
    "                     +-- # 3--<head>\n",
    "                     |   +-- # 5--<title>\n",
    "                     |   +-- # 8--<meta>\n",
    "parent::* ---------> +-- #13--<body>\n",
    "                         |\n",
    "self::* ------------->   +-- #15--<div>\n",
    "                             |\n",
    "child::*----+----------->    +-- #17--<div>\n",
    "            |                |   +-- #19--<p>\n",
    "            |                |   +-- #22--<p>\n",
    "            |                |   |   +-- #24--<a>\n",
    "            |                |   +-- #29--<br>\n",
    "            +----------->    +-- #32--<div>\n",
    "                                 +-- #35--<a>\n",
    "```\n",
    "\n",
    "#### Recursively go up or down\n",
    "\n",
    "The `descendant` axis is similar to `child` but also goes deeper in the tree, looking at children of each child, recursively:"
   ]
  },
  {
   "cell_type": "code",
   "execution_count": 28,
   "metadata": {},
   "outputs": [
    {
     "data": {
      "text/plain": [
       "[<xmlNode (div) object at 0x7f0b941abea8>,\n",
       " <xmlNode (p) object at 0x7f0b941abb48>,\n",
       " <xmlNode (p) object at 0x7f0b941abfc8>,\n",
       " <xmlNode (a) object at 0x7f0b941abf80>,\n",
       " <xmlNode (br) object at 0x7f0b941c82d8>,\n",
       " <xmlNode (div) object at 0x7f0b941c8098>,\n",
       " <xmlNode (a) object at 0x7f0b941c8128>]"
      ]
     },
     "execution_count": 28,
     "metadata": {},
     "output_type": "execute_result"
    }
   ],
   "source": [
    "first_div.xpathEval('descendant::*')"
   ]
  },
  {
   "cell_type": "markdown",
   "metadata": {},
   "source": [
    "You might guess already what `ancestor` is for: it is the dual axis of `descendant`:"
   ]
  },
  {
   "cell_type": "code",
   "execution_count": 29,
   "metadata": {},
   "outputs": [
    {
     "data": {
      "text/plain": [
       "[<xmlNode (html) object at 0x7f0b941c83f8>,\n",
       " <xmlNode (body) object at 0x7f0b941c88c0>]"
      ]
     },
     "execution_count": 29,
     "metadata": {},
     "output_type": "execute_result"
    }
   ],
   "source": [
    "first_div.xpathEval('ancestor::*')"
   ]
  },
  {
   "cell_type": "markdown",
   "metadata": {},
   "source": [
    "#### Special case of `descendant-or-self` axis\n",
    "\n",
    "TODO"
   ]
  },
  {
   "cell_type": "markdown",
   "metadata": {
    "collapsed": true
   },
   "source": [
    "### Move \"sideways\": children nodes of the same parent\n",
    " \n",
    "If nodes can have parents, children, ancestors and descendants, they can also have siblings (to continue the family metaphor). **Siblings are nodes that have the same parent node.**\n",
    " \n",
    "Some siblings may come before the context node (they appear before in the document, their order is lower), or they can come after the context node. There are 2 axis for these 2 directions: `preceding-sibling` and `following-sibling`.\n",
    "\n",
    "Let's first select this paragraph from our sample document: `<p>Is this <a href=\"page2.html\">a link</a>?</p>`. It's the 2nd child of the 1st `<div>` of the `<div>` we used above:"
   ]
  },
  {
   "cell_type": "code",
   "execution_count": 30,
   "metadata": {
    "collapsed": true
   },
   "outputs": [],
   "source": [
    "paragraph = first_div.xpathEval('child::div[1]/child::p[2]')[0]"
   ]
  },
  {
   "cell_type": "markdown",
   "metadata": {},
   "source": [
    "You can notice above that we started using 2 new patterns along with the axes:\n",
    "\n",
    "- `child::div` vs. `child::*`: `*` means \"any element node\" (this is a _NODETEST_ that we'll cover afterwards)\n",
    "- `[1]` and `[2]`: which mean _first_ and _second_ in the current step's node-set (this is a kind of _PREDICATE_ that we'll cover afterwards also)"
   ]
  },
  {
   "cell_type": "code",
   "execution_count": 31,
   "metadata": {},
   "outputs": [
    {
     "data": {
      "text/plain": [
       "[<xmlNode (p) object at 0x7f0b941c8830>]"
      ]
     },
     "execution_count": 31,
     "metadata": {},
     "output_type": "execute_result"
    }
   ],
   "source": [
    "paragraph.xpathEval('preceding-sibling::*')"
   ]
  },
  {
   "cell_type": "code",
   "execution_count": 32,
   "metadata": {},
   "outputs": [
    {
     "data": {
      "text/plain": [
       "[<xmlNode (br) object at 0x7f0b941c8d40>]"
      ]
     },
     "execution_count": 32,
     "metadata": {},
     "output_type": "execute_result"
    }
   ],
   "source": [
    "paragraph.xpathEval('following-sibling::*')"
   ]
  },
  {
   "cell_type": "markdown",
   "metadata": {},
   "source": [
    "Again, let's see which elements were selected in our ASCII tree representation:\n",
    "\n",
    "```\n",
    "                # 0--(ROOT)\n",
    "                 +-- # 1--<html>\n",
    "                     +-- # 3--<head>\n",
    "                     |   +-- # 5--<title>\n",
    "                     |   +-- # 8--<meta>\n",
    "                     +-- #13--<body>\n",
    "                         |\n",
    "                         +-- #15--<div>\n",
    "                             |\n",
    "                             +-- #17--<div>\n",
    "                             |   |\n",
    "                             |   |\n",
    "preceding-sibling::* ----------> +-- #19--<p>\n",
    "                             |   |\n",
    "                             |   |\n",
    "self::* -----------------------> +-- #22--<p>\n",
    "                             |   |   |\n",
    "                             |   |   +-- #24--<a>\n",
    "                             |   |\n",
    "                             |   |\n",
    "following-sibling::* ----------> +-- #29--<br>\n",
    "                             |\n",
    "                             |\n",
    "                             +-- #32--<div>\n",
    "                                 +-- #35--<a>\n",
    "```"
   ]
  },
  {
   "cell_type": "code",
   "execution_count": 33,
   "metadata": {},
   "outputs": [
    {
     "data": {
      "text/plain": [
       "[<xmlNode (text) object at 0x7f0b94150050>,\n",
       " <xmlNode (br) object at 0x7f0b941500e0>,\n",
       " <xmlNode (text) object at 0x7f0b94150098>]"
      ]
     },
     "execution_count": 33,
     "metadata": {},
     "output_type": "execute_result"
    }
   ],
   "source": [
    "paragraph.xpathEval('following-sibling::node()')"
   ]
  },
  {
   "cell_type": "markdown",
   "metadata": {},
   "source": [
    "#### Nodes before and after, in document order"
   ]
  },
  {
   "cell_type": "markdown",
   "metadata": {},
   "source": [
    "`preceding` and `following` are 2 special axes that do not look at the tree hierarchy, but work on the document order of nodes.\n",
    "\n",
    "Remember, all nodes in XPath data model have an order, called the _document order_. Node 1 is the first node in the HTML source, node 2 is the node appearing next etc.\n",
    "\n",
    "```\n",
    "  #1    #2    #3   ...\n",
    "<html><head><title>...\n",
    "```"
   ]
  },
  {
   "cell_type": "code",
   "execution_count": 34,
   "metadata": {},
   "outputs": [
    {
     "data": {
      "text/plain": [
       "[<xmlNode (head) object at 0x7f0b94150200>,\n",
       " <xmlNode (title) object at 0x7f0b94150488>,\n",
       " <xmlNode (meta) object at 0x7f0b941501b8>,\n",
       " <xmlNode (p) object at 0x7f0b941504d0>]"
      ]
     },
     "execution_count": 34,
     "metadata": {},
     "output_type": "execute_result"
    }
   ],
   "source": [
    "paragraph.xpathEval('preceding::*')"
   ]
  },
  {
   "cell_type": "code",
   "execution_count": 35,
   "metadata": {},
   "outputs": [
    {
     "data": {
      "text/plain": [
       "[<xmlNode (br) object at 0x7f0b941c8e60>,\n",
       " <xmlNode (div) object at 0x7f0b941c87a0>,\n",
       " <xmlNode (a) object at 0x7f0b941c8fc8>]"
      ]
     },
     "execution_count": 35,
     "metadata": {},
     "output_type": "execute_result"
    }
   ],
   "source": [
    "paragraph.xpathEval('following::*')"
   ]
  },
  {
   "cell_type": "markdown",
   "metadata": {},
   "source": [
    "Note that `preceding` does not include ancestors and `following` does not include descendants.\n",
    "\n",
    "This property is mentioned in XPath specs like this:\n",
    "\n",
    "> The ancestor, descendant, following, preceding and self axes partition a document (ignoring attribute and namespace nodes): they do not overlap and together they contain all the nodes in the document.\n",
    "\n",
    "i.e. `document == self U (ancestor U preceding) U (descendant U following)`"
   ]
  },
  {
   "cell_type": "markdown",
   "metadata": {},
   "source": [
    "## Node tests\n",
    "\n",
    "A \"node test\" is the second part of each step in a location path.\n",
    "\n",
    "_axis_ :: **NODETEST** _[predicate]*_\n",
    "\n",
    "Node tests select node types along the step's axis.\n",
    "\n",
    "They can be:\n",
    "\n",
    "* a *name test*:\n",
    "\n",
    "  * such as \"p\", \"title\" or \"a\" for elements: `/html/head/title` contains 3 steps, each with a name test node test\n",
    "  * or \"href\" or \"src\" for attributes: `/a/@href` selects \"href\" attributes of \n",
    " \n",
    "* a *node type test\":\n",
    "\n",
    "  * \"node()\": any node type\n",
    "  * \"text()\": text nodes\n",
    "  * \"comment()\": comment nodes\n",
    "  * \"*\" (an asterisk): the meaning depends on the axis:\n",
    "    * an \"*\" step alone selects any element nodes (a.k.a tags)\n",
    "    * an \"@*\" selects any attribute node\n",
    "\n",
    "**Note:** `text()` is not a function call that converts a node to it's text representation, it's just a test on the node type.\n",
    "\n",
    "Compare these 2 expressions:"
   ]
  },
  {
   "cell_type": "code",
   "execution_count": 36,
   "metadata": {},
   "outputs": [
    {
     "name": "stdout",
     "output_type": "stream",
     "text": [
      "'Is this '\n",
      "'?'\n"
     ]
    }
   ],
   "source": [
    "for t in paragraph.xpathEval('child::text()'):\n",
    "    print(\"%r\" % t.get_content())"
   ]
  },
  {
   "cell_type": "code",
   "execution_count": 37,
   "metadata": {},
   "outputs": [
    {
     "data": {
      "text/plain": [
       "'Is this a link?'"
      ]
     },
     "execution_count": 37,
     "metadata": {},
     "output_type": "execute_result"
    }
   ],
   "source": [
    "paragraph.xpathEval('string(self::*)')"
   ]
  },
  {
   "cell_type": "markdown",
   "metadata": {},
   "source": [
    "`child::text()` selector all children nodes that are also text nodes. \"a\" is part of the `<a>` inside the paragraph, sot it's not selected.\n",
    "\n",
    "Whereas `string(self::*)` applies to the paragraph (the context node, selected with `self::*`) and recursively gets text content of children, children of children and so on."
   ]
  },
  {
   "cell_type": "markdown",
   "metadata": {},
   "source": [
    "## Predicates\n",
    "\n",
    "_axis_ :: _nodetest_ ** [PREDICATE]* **\n",
    "\n",
    "Predicates are the last part of each step in a location path. Predicates are optional.\n",
    "\n",
    "They are used to further filter nodes on properties that cannot be expressed with the step's axis and node test.\n",
    "\n",
    "Remember that XPath location paths work step by step. Each step produces a node-set for each node from the previous step's node-set, with possibly more than 1 node in each node set.\n",
    "\n",
    "You may not be interested in all nodes from a node test.\n",
    "\n",
    "The syntax for predicates is simple: just surround conditions withing square brackets. What's inside the square brackets can be:\n",
    "\n",
    "- a number (see positional predicates below)\n",
    "- a location path: the predicate will select nodes for which the location path matches at least a node\n",
    "- a boolean operation: for example to test a condition on text content or count of children\n",
    "\n",
    "### Positional predicates\n",
    "\n",
    "The first use-case is selecting nodes based on their position in a node-set. Node-sets order depends on the axis, but let's consider that the order of a node in a node-set is the document order.\n",
    "\n",
    "Let's say we don't want the 2 paragraphs in the `<div>` we looked at earlier, only the first one:"
   ]
  },
  {
   "cell_type": "code",
   "execution_count": 38,
   "metadata": {},
   "outputs": [
    {
     "name": "stdout",
     "output_type": "stream",
     "text": [
      "<p>This is a paragraph.</p>\n",
      "<p>Is this <a href=\"page2.html\">a link</a>?</p>\n"
     ]
    }
   ],
   "source": [
    "for paragraph in doc.xpathEval('//body/div/div/p'):\n",
    "    print(paragraph.serialize())"
   ]
  },
  {
   "cell_type": "code",
   "execution_count": 39,
   "metadata": {},
   "outputs": [
    {
     "name": "stdout",
     "output_type": "stream",
     "text": [
      "<p>This is a paragraph.</p>\n"
     ]
    }
   ],
   "source": [
    "for paragraph in doc.xpathEval('//body/div/div/p[1]'):\n",
    "    print(paragraph.serialize())"
   ]
  },
  {
   "cell_type": "markdown",
   "metadata": {},
   "source": [
    "If you want the last node in a node-set, you can use `last()`:"
   ]
  },
  {
   "cell_type": "code",
   "execution_count": 40,
   "metadata": {},
   "outputs": [
    {
     "name": "stdout",
     "output_type": "stream",
     "text": [
      "<div class=\"second\">\n",
      "      Nothing to add.\n",
      "      Except maybe this <a href=\"page3.html\">other link</a>. \n",
      "      <!-- And this comment -->\n",
      "    </div>\n"
     ]
    }
   ],
   "source": [
    "for div in doc.xpathEval('//body/div/div[last()]'):\n",
    "    print(div.serialize())"
   ]
  },
  {
   "cell_type": "markdown",
   "metadata": {},
   "source": [
    "#### Position ranges\n",
    "\n",
    "TODO: things like `//table/tbody/tr[position() > 2]`"
   ]
  },
  {
   "cell_type": "markdown",
   "metadata": {},
   "source": [
    "### Location paths as predicates\n",
    "\n",
    "TODO: things like `//table[tr/div/a]`"
   ]
  },
  {
   "cell_type": "markdown",
   "metadata": {},
   "source": [
    "### Boolean predicates\n",
    "\n",
    "TODO: things like `//table[count(tr)=10]`\n",
    "\n",
    "#### Special case of string value tests\n",
    "\n",
    "TODO: things like `//table[.//img/@src=\"pic.png\"]` or `//table[th=\"Some headers\"]`\n",
    "\n",
    "#### Special trick for testing multiple node names\n",
    "\n",
    "TODO: things like `./descendant-or-self::*[self::ul or self::ol]`"
   ]
  },
  {
   "cell_type": "markdown",
   "metadata": {},
   "source": [
    "### Nested predicates\n",
    "\n",
    "We said that location paths can be used as predicate. And location paths can have predicates. So it's possible end up with nested predicates."
   ]
  },
  {
   "cell_type": "code",
   "execution_count": 41,
   "metadata": {},
   "outputs": [
    {
     "name": "stdout",
     "output_type": "stream",
     "text": [
      "<div>\n",
      "      <p>This is a paragraph.</p>\n",
      "      <p>Is this <a href=\"page2.html\">a link</a>?</p>\n",
      "      <br>\n",
      "      Apparently.\n",
      "    </div>\n"
     ]
    }
   ],
   "source": [
    "#                               <------predicate --------->\n",
    "#                                  <-nested predicate->\n",
    "for div in doc.xpathEval('//div[p  [a/@href=\"page2.html\"]  ]'):\n",
    "    print(div.serialize())"
   ]
  },
  {
   "cell_type": "markdown",
   "metadata": {},
   "source": [
    "In fact, the above is equivalent to `//div[p/a/@href=\"page2.html\"]` with no nesting:"
   ]
  },
  {
   "cell_type": "code",
   "execution_count": 42,
   "metadata": {},
   "outputs": [
    {
     "name": "stdout",
     "output_type": "stream",
     "text": [
      "<div>\n",
      "      <p>This is a paragraph.</p>\n",
      "      <p>Is this <a href=\"page2.html\">a link</a>?</p>\n",
      "      <br>\n",
      "      Apparently.\n",
      "    </div>\n"
     ]
    }
   ],
   "source": [
    "for div in doc.xpathEval('//div[p/a/@href=\"page2.html\"]'):\n",
    "    print(div.serialize())"
   ]
  },
  {
   "cell_type": "markdown",
   "metadata": {},
   "source": [
    "### Order of predicates is important\n",
    "\n",
    "You can have multiple predicates in sequence per step, each within its `[]` brackets, i.e. steps in the form of `axis::nodetest[predicate#1][predicate#2][predicate#3]...`\n",
    "\n",
    "Predicates are processed in order, from left to right. And the output of one predicate is fed into the next predicate filter, much like steps produce node-sets for the next step to process.\n",
    "\n",
    "So the order of predicates is important.\n",
    "\n",
    "The following 2 location paths produce different results:\n"
   ]
  },
  {
   "cell_type": "code",
   "execution_count": 43,
   "metadata": {},
   "outputs": [
    {
     "name": "stdout",
     "output_type": "stream",
     "text": [
      "<div class=\"second\">\n",
      "      Nothing to add.\n",
      "      Except maybe this <a href=\"page3.html\">other link</a>. \n",
      "      <!-- And this comment -->\n",
      "    </div>\n"
     ]
    }
   ],
   "source": [
    "for div in doc.xpathEval('//div[2][@class=\"second\"]'):\n",
    "    print(div.serialize())"
   ]
  },
  {
   "cell_type": "code",
   "execution_count": 44,
   "metadata": {
    "collapsed": true
   },
   "outputs": [],
   "source": [
    "for div in doc.xpathEval('//div[@class=\"second\"][2]'):\n",
    "    print(div.serialize())"
   ]
  },
  {
   "cell_type": "markdown",
   "metadata": {},
   "source": [
    "The 2nd produces nothing. Why is that?\n",
    "\n",
    "`//div[2][@class=\"second\"]` looks at `div` elements that are the 2nd child of their parent (because `div` means `child::div`, and `[2]` will select the 2nd node in the current node-set.\n",
    "In our document this happens only once.\n",
    "The final predicate, `[@class=\"second\"]`, filter nodes that have a \"class\" attribute with value \"second\". This happens to be valid for that 2nd child `div`.\n",
    "\n",
    "On the contrary, `//div[@class=\"second\"][2]` will first produce `//div[@class=\"second\"]`, which only produces single-node node-sets (again, there's only 1 `div` with \"class\" attribute with value \"second\").\n",
    "So the subsequent `[2]` predicate will never match with single-node node-sets."
   ]
  },
  {
   "cell_type": "markdown",
   "metadata": {},
   "source": [
    "### Abbreviation cheatsheet"
   ]
  },
  {
   "cell_type": "markdown",
   "metadata": {},
   "source": [
    "| Abbreviated step             | Meaning    \n",
    "|------------------------------|-------------------------------------------------\n",
    "| `*` (asterisk)               | all **element** nodes (i.e. not text nodes, not attribute nodes;\n",
    "|                              | remember that `.//*` is not the same as `.//node()`;\n",
    "|                              | also, there's not `element()` node test\n",
    "| `@*`                         | `attribute::*` (all attribute nodes)\n",
    "| `//`                         | `/descendant-or-self::node()/\n",
    "|                              | exactly this, nothing more,  nothing less,\n",
    "|                              | so `//*` is not the same as `/descendant-or-self::*`\n",
    "| `.` (a single dot)           | `self::node()`, the context node; useful for formation a relative XPath\n",
    "|                              | e.g. `.//tr`\n",
    "| `..` (2 dots)                | `parent::node()`\n",
    "\n",
    "TODO: explain why `//*` is not the same as `/descendant-or-self::*`"
   ]
  },
  {
   "cell_type": "markdown",
   "metadata": {},
   "source": [
    "## String functions\n",
    "\n",
    "TODO"
   ]
  },
  {
   "cell_type": "markdown",
   "metadata": {},
   "source": [
    "# Part 3: Use-cases for web scraping\n",
    "\n",
    "TODO"
   ]
  },
  {
   "cell_type": "markdown",
   "metadata": {},
   "source": [
    "## Text extraction\n",
    "\n",
    "TODO"
   ]
  },
  {
   "cell_type": "markdown",
   "metadata": {},
   "source": [
    "## Attributes extraction\n",
    "\n",
    "TODO\n",
    "\n",
    "### Attribute names extractions\n",
    "\n",
    "TODO"
   ]
  },
  {
   "cell_type": "markdown",
   "metadata": {},
   "source": [
    "## CSS Selectors\n",
    "\n",
    "TODO"
   ]
  },
  {
   "cell_type": "markdown",
   "metadata": {},
   "source": [
    "## Loop on elements (table rows, lists)\n",
    "\n",
    "TODO"
   ]
  },
  {
   "cell_type": "markdown",
   "metadata": {},
   "source": [
    "## Element boundaries & XPath buckets (advanced)\n",
    "\n",
    "TODO"
   ]
  },
  {
   "cell_type": "markdown",
   "metadata": {},
   "source": [
    "## EXSLT extensions\n",
    "\n",
    "TODO"
   ]
  },
  {
   "cell_type": "markdown",
   "metadata": {},
   "source": [
    "# Summary of tips\n",
    "\n",
    "* Use relative XPath expressions whenever possible\n",
    "* Know your axes!\n",
    "* Don't forget that XPath has `string()` and `normalize-space()` functions\n",
    "* **`text()` is a node test**, not a function call\n",
    "* CSS selectors are very handy, easier to maintain, but also less powerful than XPath"
   ]
  },
  {
   "cell_type": "code",
   "execution_count": null,
   "metadata": {
    "collapsed": true
   },
   "outputs": [],
   "source": []
  }
 ],
 "metadata": {
  "kernelspec": {
   "display_name": "Python 2",
   "language": "python",
   "name": "python2"
  },
  "language_info": {
   "codemirror_mode": {
    "name": "ipython",
    "version": 2
   },
   "file_extension": ".py",
   "mimetype": "text/x-python",
   "name": "python",
   "nbconvert_exporter": "python",
   "pygments_lexer": "ipython2",
   "version": "2.7.12+"
  }
 },
 "nbformat": 4,
 "nbformat_minor": 2
}
