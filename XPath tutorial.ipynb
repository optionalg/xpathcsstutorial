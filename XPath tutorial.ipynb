{
 "cells": [
  {
   "cell_type": "markdown",
   "metadata": {},
   "source": [
    "# What is XPath?\n",
    "\n",
    "## XPath is a language\n",
    "\n",
    "> XPath is a language for addressing parts of an XML document \n",
    "> \n",
    "> -- <cite>[XML Path Language 1.0](https://www.w3.org/TR/xpath/)</cite>\n",
    "\n",
    "\n",
    "XPath [data model](http://www.w3.org/TR/xpath/#data-model) is a tree of nodes:\n",
    "* element nodes (`<p>...</p>`)\n",
    "* attribute nodes (`href=\"page.html\"`)\n",
    "* text nodes (`\"Some Title\"`)\n",
    "* comment nodes (`<!-- a comment -->`)\n",
    "* (and 3 other types that we won’t cover here.)\n",
    "\n",
    "## Why learn XPath?\n",
    "\n",
    "* navigate **everywhere** inside a DOM tree\n",
    "* a must-have skill for accurate web data extraction\n",
    "* more powerful than CSS selectors\n",
    "* fine-grained look at the text content\n",
    "* complex conditioning with axes\n",
    "* extensible with custom functions (we won’t cover that in this talk though)\n",
    "\n",
    "Also, it’s kind of fun :-)\n",
    "\n",
    "## XPath data model\n",
    "\n",
    "Let's use this sample HTML page to illustrate how XPath works:\n",
    "\n",
    "```\n",
    "<html>\n",
    "<head>\n",
    "  <title>This is a title</title>\n",
    "  <meta content=\"text/html; charset=utf-8\" http-equiv=\"content-type\">\n",
    "</head>\n",
    "<body>\n",
    "  <div>\n",
    "    <div>\n",
    "      <p>This is a paragraph.</p>\n",
    "      <p>Is this <a href=\"page2.html\">a link</a>?</p>\n",
    "      <br>\n",
    "      Apparently.\n",
    "    </div>\n",
    "    <div class=\"second\">\n",
    "      Nothing to add.\n",
    "      Except maybe this <a href=\"page3.html\">other link</a>. \n",
    "      <!-- And this comment -->\n",
    "    </div>\n",
    "  </div>\n",
    "</body>\n",
    "</html>\n",
    "```"
   ]
  },
  {
   "cell_type": "code",
   "execution_count": 1,
   "metadata": {},
   "outputs": [],
   "source": [
    "import libxml2"
   ]
  },
  {
   "cell_type": "code",
   "execution_count": 2,
   "metadata": {
    "collapsed": true
   },
   "outputs": [],
   "source": [
    "htmlsample = '''<html>\n",
    "<head>\n",
    "  <title>This is a title</title>\n",
    "  <meta content=\"text/html; charset=utf-8\" http-equiv=\"content-type\" />\n",
    "</head>\n",
    "<body>\n",
    "  <div>\n",
    "    <div>\n",
    "      <p>This is a paragraph.</p>\n",
    "      <p>Is this <a href=\"page2.html\">a link</a>?</p>\n",
    "      <br />\n",
    "      Apparently.\n",
    "    </div>\n",
    "    <div class=\"second\">\n",
    "      Nothing to add.\n",
    "      Except maybe this <a href=\"page3.html\">other link</a>. \n",
    "      <!-- And this comment -->\n",
    "    </div>\n",
    "  </div>\n",
    "</body>\n",
    "</html>'''"
   ]
  },
  {
   "cell_type": "code",
   "execution_count": 3,
   "metadata": {},
   "outputs": [],
   "source": [
    "doc = libxml2.htmlReadDoc(htmlsample, 'http://www.example.com', 'utf-8', 0)"
   ]
  },
  {
   "cell_type": "markdown",
   "metadata": {},
   "source": [
    "Everything is a node in XPath data model: elements, attributes, comments...\n",
    "\n",
    "And nodes  have an order, the **document order**, the order they appear in the XML/HTML source."
   ]
  },
  {
   "cell_type": "code",
   "execution_count": 4,
   "metadata": {},
   "outputs": [
    {
     "name": "stdout",
     "output_type": "stream",
     "text": [
      "# 0--(ROOT)\n",
      " +-- # 1--<html>\n",
      "     +-- # 2--(TXT): '\\n'\n",
      "     +-- # 3--<head>\n",
      "     |   +-- # 4--(TXT): '\\n  '\n",
      "     |   +-- # 5--<title>\n",
      "     |   |   +-- # 6--(TXT): 'This is a title'\n",
      "     |   +-- # 7--(TXT): '\\n  '\n",
      "     |   +-- # 8--<meta>\n",
      "     |   |   +-- # 9--(ATTR): content: 'text/html; charset=utf-8'\n",
      "     |   |   +-- #10--(ATTR): http-equiv: 'content-type'\n",
      "     |   +-- #11--(TXT): '\\n'\n",
      "     +-- #12--(TXT): '\\n'\n",
      "     +-- #13--<body>\n",
      "     |   +-- #14--(TXT): '\\n  '\n",
      "     |   +-- #15--<div>\n",
      "     |   |   +-- #16--(TXT): '\\n    '\n",
      "     |   |   +-- #17--<div>\n",
      "     |   |   |   +-- #18--(TXT): '\\n      '\n",
      "     |   |   |   +-- #19--<p>\n",
      "     |   |   |   |   +-- #20--(TXT): 'This is a paragraph.'\n",
      "     |   |   |   +-- #21--(TXT): '\\n      '\n",
      "     |   |   |   +-- #22--<p>\n",
      "     |   |   |   |   +-- #23--(TXT): 'Is this '\n",
      "     |   |   |   |   +-- #24--<a>\n",
      "     |   |   |   |   |   +-- #25--(ATTR): href: 'page2.html'\n",
      "     |   |   |   |   |   +-- #26--(TXT): 'a link'\n",
      "     |   |   |   |   +-- #27--(TXT): '?'\n",
      "     |   |   |   +-- #28--(TXT): '\\n      '\n",
      "     |   |   |   +-- #29--<br>\n",
      "     |   |   |   +-- #30--(TXT): '\\n      Apparently.\\n    '\n",
      "     |   |   +-- #31--(TXT): '\\n    '\n",
      "     |   |   +-- #32--<div>\n",
      "     |   |   |   +-- #33--(ATTR): class: 'second'\n",
      "     |   |   |   +-- #34--(TXT): '\\n      Nothing to add.\\n      Except maybe this '\n",
      "     |   |   |   +-- #35--<a>\n",
      "     |   |   |   |   +-- #36--(ATTR): href: 'page3.html'\n",
      "     |   |   |   |   +-- #37--(TXT): 'other link'\n",
      "     |   |   |   +-- #38--(TXT): '. \\n      '\n",
      "     |   |   |   +-- #39--(COMM): ' And this comment '\n",
      "     |   |   |   +-- #40--(TXT): '\\n    '\n",
      "     |   |   +-- #41--(TXT): '\\n  '\n",
      "     |   +-- #42--(TXT): '\\n'\n",
      "     +-- #43--(TXT): '\\n'\n"
     ]
    }
   ],
   "source": [
    "from collections import OrderedDict\n",
    "from asciitree import LeftAligned\n",
    "\n",
    "order = 0\n",
    "def traverse(node, accept=('text', 'attribute', 'comment'), ignore_empty_text=True):\n",
    "    global order\n",
    "    children_list = OrderedDict()\n",
    "    _name = \"#%2d--<%s>\" % (order, node.name)\n",
    "    _type = node.get_type()\n",
    "    if node.isText():\n",
    "        if 'text' not in accept:\n",
    "            return\n",
    "        if ignore_empty_text and not node.content.strip():\n",
    "            return\n",
    "        _content = '#%2d--(TXT): %r' % (order, node.content)\n",
    "    elif _type == 'attribute':\n",
    "        if 'attribute' not in accept:\n",
    "            return\n",
    "        _content = '#%2d--(ATTR): %s: %r' % (order, node.name, node.content)\n",
    "    elif _type == 'comment':\n",
    "        if 'comment' not in accept:\n",
    "            return\n",
    "        _content = '#%2d--(COMM): %r' % (order, node.content)\n",
    "    elif _type == 'document_html':\n",
    "        _content = '#%2d--(ROOT)' % (order,)\n",
    "    else:\n",
    "        _content = _name\n",
    "    \n",
    "    for child in node.xpathEval('(child::node() | attribute::*)'):\n",
    "        order += 1\n",
    "        r = traverse(child, accept=accept, ignore_empty_text=ignore_empty_text)\n",
    "        if r is not None:\n",
    "            children_list.update(r)\n",
    "            \n",
    "    return {_content: children_list}\n",
    "\n",
    "\n",
    "tr = LeftAligned()\n",
    "print(tr(OrderedDict(traverse(doc, ignore_empty_text=False))))"
   ]
  },
  {
   "cell_type": "markdown",
   "metadata": {},
   "source": [
    "## XPath return types\n",
    "\n",
    "When applied over a document, an XPath expression can return either:\n",
    "\n",
    "* a node-set (most common case, and most often element nodes)\n",
    "* a string\n",
    "* a number (floating point)\n",
    "* a boolean\n",
    "\n",
    "**Note: When an XPath expression returns node-sets, you do get a set of nodes, even if there's only one node in the set.**\n",
    "\n",
    "The root node is a special node:\n",
    "\n",
    "> The root node is the root of the tree. A root node does not occur except as the root of the tree. The element node for the document element is a child of the root node."
   ]
  },
  {
   "cell_type": "code",
   "execution_count": 5,
   "metadata": {},
   "outputs": [
    {
     "data": {
      "text/plain": [
       "[<xmlDoc (http://www.example.com) object at 0x7f7ad4130050>]"
      ]
     },
     "execution_count": 5,
     "metadata": {},
     "output_type": "execute_result"
    }
   ],
   "source": [
    "# XPath expression\n",
    "#              |\n",
    "#              v\n",
    "doc.xpathEval('/')"
   ]
  },
  {
   "cell_type": "markdown",
   "metadata": {},
   "source": [
    "### Selecting elements (a.k.a \"tags\")\n"
   ]
  },
  {
   "cell_type": "markdown",
   "metadata": {},
   "source": [
    "Children of the root node: the HTML element (a node-set)"
   ]
  },
  {
   "cell_type": "code",
   "execution_count": 6,
   "metadata": {},
   "outputs": [
    {
     "data": {
      "text/plain": [
       "[<xmlNode (html) object at 0x7f7ac53f3a28>]"
      ]
     },
     "execution_count": 6,
     "metadata": {},
     "output_type": "execute_result"
    }
   ],
   "source": [
    "# XPath expression\n",
    "#               |\n",
    "#             |<>|\n",
    "doc.xpathEval('/*')"
   ]
  },
  {
   "cell_type": "markdown",
   "metadata": {},
   "source": [
    "Get `<title>` elements:"
   ]
  },
  {
   "cell_type": "code",
   "execution_count": 7,
   "metadata": {},
   "outputs": [
    {
     "data": {
      "text/plain": [
       "[<xmlNode (title) object at 0x7f7ad4130998>]"
      ]
     },
     "execution_count": 7,
     "metadata": {},
     "output_type": "execute_result"
    }
   ],
   "source": [
    "#               XPath expression\n",
    "#                       |\n",
    "#             |<-------------->|\n",
    "doc.xpathEval('/html/head/title')"
   ]
  },
  {
   "cell_type": "markdown",
   "metadata": {},
   "source": [
    "Get the text nodes of `<title>` elements:"
   ]
  },
  {
   "cell_type": "code",
   "execution_count": 8,
   "metadata": {},
   "outputs": [
    {
     "data": {
      "text/plain": [
       "[<xmlNode (text) object at 0x7f7ac5403dd0>]"
      ]
     },
     "execution_count": 8,
     "metadata": {},
     "output_type": "execute_result"
    }
   ],
   "source": [
    "#                   XPath expression\n",
    "#                          |\n",
    "#             |<--------------------->|\n",
    "doc.xpathEval('/html/head/title/text()')"
   ]
  },
  {
   "cell_type": "markdown",
   "metadata": {},
   "source": [
    "Selecting all paragraph elements inside the HTML body:"
   ]
  },
  {
   "cell_type": "code",
   "execution_count": 9,
   "metadata": {},
   "outputs": [
    {
     "data": {
      "text/plain": [
       "[<xmlNode (p) object at 0x7f7ac5403f80>,\n",
       " <xmlNode (p) object at 0x7f7ac53fb0e0>]"
      ]
     },
     "execution_count": 9,
     "metadata": {},
     "output_type": "execute_result"
    }
   ],
   "source": [
    "#           XPath expression\n",
    "#                  |\n",
    "#             |<------->|\n",
    "doc.xpathEval('//body//p')"
   ]
  },
  {
   "cell_type": "markdown",
   "metadata": {},
   "source": [
    "### Get a string representation of an element"
   ]
  },
  {
   "cell_type": "code",
   "execution_count": 10,
   "metadata": {},
   "outputs": [
    {
     "data": {
      "text/plain": [
       "'This is a title'"
      ]
     },
     "execution_count": 10,
     "metadata": {},
     "output_type": "execute_result"
    }
   ],
   "source": [
    "#                    XPath expression\n",
    "#                           |\n",
    "#             |<---------------------->|\n",
    "doc.xpathEval('string(/html/head/title)')"
   ]
  },
  {
   "cell_type": "markdown",
   "metadata": {},
   "source": [
    "### Counting elements\n",
    "\n",
    "Number of paragraphs in the document:"
   ]
  },
  {
   "cell_type": "code",
   "execution_count": 11,
   "metadata": {},
   "outputs": [
    {
     "data": {
      "text/plain": [
       "2.0"
      ]
     },
     "execution_count": 11,
     "metadata": {},
     "output_type": "execute_result"
    }
   ],
   "source": [
    "#           XPath expression\n",
    "#                   |\n",
    "#             |<-------->|\n",
    "doc.xpathEval('count(//p)')"
   ]
  },
  {
   "cell_type": "markdown",
   "metadata": {},
   "source": [
    "Number of attributes in the document (whatever their parent element):"
   ]
  },
  {
   "cell_type": "code",
   "execution_count": 12,
   "metadata": {},
   "outputs": [
    {
     "data": {
      "text/plain": [
       "5.0"
      ]
     },
     "execution_count": 12,
     "metadata": {},
     "output_type": "execute_result"
    }
   ],
   "source": [
    "#           XPath expression\n",
    "#                   |\n",
    "#             |<-------->|\n",
    "doc.xpathEval('count(//@*)')"
   ]
  },
  {
   "cell_type": "markdown",
   "metadata": {},
   "source": [
    "### Boolean operations\n",
    "\n",
    "For example, testing the number of paragraphs:"
   ]
  },
  {
   "cell_type": "code",
   "execution_count": 13,
   "metadata": {},
   "outputs": [
    {
     "data": {
      "text/plain": [
       "1"
      ]
     },
     "execution_count": 13,
     "metadata": {},
     "output_type": "execute_result"
    }
   ],
   "source": [
    "doc.xpathEval('count(//p) = 2')"
   ]
  },
  {
   "cell_type": "code",
   "execution_count": 14,
   "metadata": {},
   "outputs": [
    {
     "data": {
      "text/plain": [
       "0"
      ]
     },
     "execution_count": 14,
     "metadata": {},
     "output_type": "execute_result"
    }
   ],
   "source": [
    "doc.xpathEval('count(//p) = 42')"
   ]
  },
  {
   "cell_type": "markdown",
   "metadata": {},
   "source": [
    "# Location Paths: how to move inside the document tree"
   ]
  },
  {
   "cell_type": "markdown",
   "metadata": {},
   "source": [
    "A **Location path** is the most common XPath expression.\n",
    "\n",
    "It is used to move in any direction from a starting point (*the context node*) to any node(s) in the tree:\n",
    "\n",
    "* It is a string, with a series of “steps”: `\"step1 / step2 / step3 ...\"`\n",
    "\n",
    "* It represents the selection and filtering of nodes, processed step by step, from left to right.\n",
    "\n",
    "* Each step is of the form: `AXIS :: NODETEST [PREDICATE]*`\n",
    "\n",
    "Note: whitespace does NOT matter, except for `“//”`, (`“/ /”` is a syntax error.)\n",
    "\n",
    "So **don’t be afraid of indenting your XPath expressions**. The following 3 expressions produce the same result\n"
   ]
  },
  {
   "cell_type": "code",
   "execution_count": 15,
   "metadata": {},
   "outputs": [
    {
     "data": {
      "text/plain": [
       "[<xmlNode (title) object at 0x7f7ac53fb560>]"
      ]
     },
     "execution_count": 15,
     "metadata": {},
     "output_type": "execute_result"
    }
   ],
   "source": [
    "doc.xpathEval('/html/head/title')"
   ]
  },
  {
   "cell_type": "code",
   "execution_count": 16,
   "metadata": {},
   "outputs": [
    {
     "data": {
      "text/plain": [
       "[<xmlNode (title) object at 0x7f7ac53fb5f0>]"
      ]
     },
     "execution_count": 16,
     "metadata": {},
     "output_type": "execute_result"
    }
   ],
   "source": [
    "doc.xpathEval('/    html   / head   /title')"
   ]
  },
  {
   "cell_type": "code",
   "execution_count": 17,
   "metadata": {},
   "outputs": [
    {
     "data": {
      "text/plain": [
       "[<xmlNode (title) object at 0x7f7ac53fb8c0>]"
      ]
     },
     "execution_count": 17,
     "metadata": {},
     "output_type": "execute_result"
    }
   ],
   "source": [
    "doc.xpathEval('''\n",
    "    /html\n",
    "        /head\n",
    "            /title''')"
   ]
  },
  {
   "cell_type": "markdown",
   "metadata": {},
   "source": [
    "## Relative vs. absolute paths\n",
    "\n",
    "Location paths can be relative or absolute:\n",
    "\n",
    "* `\"step1/step2/step3\"` is relative\n",
    "* `\"/step1/step2/step3\"` is absolute\n",
    "\n",
    "i.e. an absolute path is a relative path starting with \"/\" (slash)\n",
    "\n",
    "In fact, absolute paths are relative to the root node.\n",
    "\n",
    "**Tip**: use relative paths whenever possible. This prevents unexpected selection of same nodes in loop iterations.\n",
    "\n",
    "For example, in our sample document, only one `<div>` contains paragraphs. Looping on each `<div>` and using the absolute location path `//p` will produce the same result for each iteration: returning ALL paragraphs in the document everytime.\n"
   ]
  },
  {
   "cell_type": "code",
   "execution_count": 18,
   "metadata": {},
   "outputs": [
    {
     "name": "stdout",
     "output_type": "stream",
     "text": [
      "[<xmlNode (p) object at 0x7f7ac53fb710>, <xmlNode (p) object at 0x7f7ac53fbcb0>]\n",
      "[<xmlNode (p) object at 0x7f7ac53fbcb0>, <xmlNode (p) object at 0x7f7ac53fbd40>]\n",
      "[<xmlNode (p) object at 0x7f7ac53fbd40>, <xmlNode (p) object at 0x7f7ac53fbd88>]\n"
     ]
    }
   ],
   "source": [
    "for div in doc.xpathEval('//body//div'):\n",
    "    print(div.xpathEval('//p'))"
   ]
  },
  {
   "cell_type": "markdown",
   "metadata": {},
   "source": [
    "Compare this with using the relative `p` or `./p` that will only look at children `<p>` under from each `<div>`, and only 1 of those `<div>` will show having paragraphs:"
   ]
  },
  {
   "cell_type": "code",
   "execution_count": 19,
   "metadata": {},
   "outputs": [
    {
     "name": "stdout",
     "output_type": "stream",
     "text": [
      "[]\n",
      "[<xmlNode (p) object at 0x7f7ac53fb998>, <xmlNode (p) object at 0x7f7ac53fbe18>]\n",
      "[]\n"
     ]
    }
   ],
   "source": [
    "for div in doc.xpathEval('//body//div'):\n",
    "    print(div.xpathEval('p'))"
   ]
  },
  {
   "cell_type": "code",
   "execution_count": 20,
   "metadata": {},
   "outputs": [
    {
     "name": "stdout",
     "output_type": "stream",
     "text": [
      "[]\n",
      "[<xmlNode (p) object at 0x7f7ac53fbb90>, <xmlNode (p) object at 0x7f7ac53fbe60>]\n",
      "[]\n"
     ]
    }
   ],
   "source": [
    "for div in doc.xpathEval('//body//div'):\n",
    "    print(div.xpathEval('./p'))"
   ]
  },
  {
   "cell_type": "markdown",
   "metadata": {},
   "source": [
    "## Abbreviated syntax\n",
    "\n",
    "What we’ve seen earlier is in fact “abbreviated syntax”.\n",
    "\n",
    "Full syntax is quite verbose:\n",
    "\n",
    "| Abbreviated syntax           | Full syntax\n",
    "|------------------------------|-------------------------------------------------\n",
    "| `/html/head/title`           | `/child::html /child:: head /child:: title`\n",
    "| `//meta/@content`            | `/descendant-or-self::node() /child::meta /attribute::content`\n",
    "| `//div/div[@class=\"second\"]` | `/descendant-or-self::node() /child::div /child::div [attribute::class = \"second\"]`\n",
    "| `//div/a/text()`             | `/descendant-or-self::node() /child::div /child::a /child::text()`"
   ]
  },
  {
   "cell_type": "markdown",
   "metadata": {},
   "source": [
    "## Axes: moving around\n",
    "\n",
    "**AXIS** :: _nodetest [predicate]*_\n",
    "\n",
    "**Axes give the direction to go next.**\n",
    "\n",
    "* `self` (where you are)\n",
    "* `parent`, `child` (direct hop)\n",
    "* `ancestor`, `ancestor-or-self`, `descendant`, `descendant-or-self` (multi-hop)\n",
    "* `following`, `following-sibling`, `preceding`, `preceding-sibling` (document order)\n",
    "* `attribute`, `namespace` (non-element)"
   ]
  },
  {
   "cell_type": "markdown",
   "metadata": {},
   "source": [
    "### Move up or down the tree\n",
    "\n",
    "Let's assume that we have selected the first `<div>` element in our sample document:"
   ]
  },
  {
   "cell_type": "code",
   "execution_count": 23,
   "metadata": {},
   "outputs": [],
   "source": [
    "first_div = doc.xpathEval('//body/div')[0]"
   ]
  },
  {
   "cell_type": "markdown",
   "metadata": {},
   "source": [
    "The `self` axis represents *the context node*, i.e. where you are currently in the step. (More on when this can be useful later.)"
   ]
  },
  {
   "cell_type": "code",
   "execution_count": 24,
   "metadata": {},
   "outputs": [
    {
     "data": {
      "text/plain": [
       "[<xmlNode (div) object at 0x7f7ac540e5f0>]"
      ]
     },
     "execution_count": 24,
     "metadata": {},
     "output_type": "execute_result"
    }
   ],
   "source": [
    "first_div.xpathEval('self::*')"
   ]
  },
  {
   "cell_type": "markdown",
   "metadata": {},
   "source": [
    "The `child` axis is for immediate children nodes of the context node:"
   ]
  },
  {
   "cell_type": "code",
   "execution_count": 26,
   "metadata": {},
   "outputs": [
    {
     "data": {
      "text/plain": [
       "[<xmlNode (div) object at 0x7f7ac540e638>,\n",
       " <xmlNode (div) object at 0x7f7ac540e098>]"
      ]
     },
     "execution_count": 26,
     "metadata": {},
     "output_type": "execute_result"
    }
   ],
   "source": [
    "first_div.xpathEval('child::*')"
   ]
  },
  {
   "cell_type": "code",
   "execution_count": 32,
   "metadata": {},
   "outputs": [
    {
     "name": "stdout",
     "output_type": "stream",
     "text": [
      "# 0--(ROOT)\n",
      " +-- # 1--<html>\n",
      "     +-- # 3--<head>\n",
      "     |   +-- # 5--<title>\n",
      "     |   +-- # 8--<meta>\n",
      "     +-- #13--<body>\n",
      "         +-- #15--<div>\n",
      "             +-- #17--<div>\n",
      "             |   +-- #19--<p>\n",
      "             |   +-- #22--<p>\n",
      "             |   |   +-- #24--<a>\n",
      "             |   +-- #29--<br>\n",
      "             +-- #32--<div>\n",
      "                 +-- #35--<a>\n"
     ]
    }
   ],
   "source": [
    "order = 0\n",
    "tr = LeftAligned()\n",
    "print(tr(OrderedDict(traverse(doc, accept=('element'), ignore_empty_text=False))))"
   ]
  },
  {
   "cell_type": "markdown",
   "metadata": {},
   "source": [
    "With this simplified tree representation (only considering elements, a.k.a tags), this is what `self`, `child` and `parent` select:\n",
    "\n",
    "```\n",
    "                # 0--(ROOT)\n",
    "                 +-- # 1--<html>\n",
    "                     +-- # 3--<head>\n",
    "                     |   +-- # 5--<title>\n",
    "                     |   +-- # 8--<meta>\n",
    "parent::* ---------> +-- #13--<body>\n",
    "                         |\n",
    "self:*  ------------->   +-- #15--<div>\n",
    "                             |\n",
    "child:* ----+----------->    +-- #17--<div>\n",
    "            |                |   +-- #19--<p>\n",
    "            |                |   +-- #22--<p>\n",
    "            |                |   |   +-- #24--<a>\n",
    "            |                |   +-- #29--<br>\n",
    "            +----------->    +-- #32--<div>\n",
    "                                 +-- #35--<a>\n",
    "```\n",
    "\n",
    "The `descendant` axis is similar to `child` but also goes deeper in the tree, looking at children of each child, recursively:"
   ]
  },
  {
   "cell_type": "code",
   "execution_count": 28,
   "metadata": {},
   "outputs": [
    {
     "data": {
      "text/plain": [
       "[<xmlNode (div) object at 0x7f7ac540ee18>,\n",
       " <xmlNode (p) object at 0x7f7ac540e9e0>,\n",
       " <xmlNode (p) object at 0x7f7ac540ecf8>,\n",
       " <xmlNode (a) object at 0x7f7ac540ea28>,\n",
       " <xmlNode (br) object at 0x7f7ac540eb48>,\n",
       " <xmlNode (div) object at 0x7f7ac540e908>,\n",
       " <xmlNode (a) object at 0x7f7ac540e950>]"
      ]
     },
     "execution_count": 28,
     "metadata": {},
     "output_type": "execute_result"
    }
   ],
   "source": [
    "first_div.xpathEval('descendant::*')"
   ]
  },
  {
   "cell_type": "markdown",
   "metadata": {},
   "source": [
    "You might guess already what `parent` and `ancestor` axes are for: they're the dual axes of `child` and `descendant`:"
   ]
  },
  {
   "cell_type": "code",
   "execution_count": 27,
   "metadata": {},
   "outputs": [
    {
     "data": {
      "text/plain": [
       "[<xmlNode (body) object at 0x7f7ac540e830>]"
      ]
     },
     "execution_count": 27,
     "metadata": {},
     "output_type": "execute_result"
    }
   ],
   "source": [
    "first_div.xpathEval('parent::*')"
   ]
  },
  {
   "cell_type": "code",
   "execution_count": 29,
   "metadata": {},
   "outputs": [
    {
     "data": {
      "text/plain": [
       "[<xmlNode (html) object at 0x7f7ac53fb050>,\n",
       " <xmlNode (body) object at 0x7f7ad41e6fc8>]"
      ]
     },
     "execution_count": 29,
     "metadata": {},
     "output_type": "execute_result"
    }
   ],
   "source": [
    "first_div.xpathEval('ancestor::*')"
   ]
  },
  {
   "cell_type": "code",
   "execution_count": null,
   "metadata": {
    "collapsed": true
   },
   "outputs": [],
   "source": []
  }
 ],
 "metadata": {
  "kernelspec": {
   "display_name": "Python 2",
   "language": "python",
   "name": "python2"
  },
  "language_info": {
   "codemirror_mode": {
    "name": "ipython",
    "version": 2
   },
   "file_extension": ".py",
   "mimetype": "text/x-python",
   "name": "python",
   "nbconvert_exporter": "python",
   "pygments_lexer": "ipython2",
   "version": "2.7.12+"
  }
 },
 "nbformat": 4,
 "nbformat_minor": 2
}
